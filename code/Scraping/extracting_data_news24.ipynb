{
 "cells": [
  {
   "cell_type": "code",
   "execution_count": 43,
   "id": "98f1e4e8-99b2-4e72-ab3f-090848df9019",
   "metadata": {},
   "outputs": [
    {
     "name": "stdout",
     "output_type": "stream",
     "text": [
      "Note: you may need to restart the kernel to use updated packages.\n"
     ]
    }
   ],
   "source": [
    "%pip install selenium -q"
   ]
  },
  {
   "cell_type": "code",
   "execution_count": 44,
   "id": "ea71032a-70e3-4b47-8c55-ba56243f713c",
   "metadata": {},
   "outputs": [],
   "source": [
    "import pandas as pd\n",
    "from selenium import webdriver\n",
    "from selenium.webdriver.common.by import By\n",
    "from selenium.webdriver.chrome.options import Options\n",
    "from tqdm import tqdm"
   ]
  },
  {
   "cell_type": "code",
   "execution_count": 45,
   "id": "0e78456b-f00f-4a5d-98b1-ca2eaf5a5045",
   "metadata": {},
   "outputs": [],
   "source": [
    "url_df = pd.read_csv('generated_urls.csv')"
   ]
  },
  {
   "cell_type": "code",
   "execution_count": 46,
   "id": "77a8309c",
   "metadata": {},
   "outputs": [],
   "source": [
    "# url_df = url_df.head(10)"
   ]
  },
  {
   "cell_type": "code",
   "execution_count": 47,
   "id": "830a434d",
   "metadata": {},
   "outputs": [
    {
     "name": "stdout",
     "output_type": "stream",
     "text": [
      "Running in headless mode.\n"
     ]
    }
   ],
   "source": [
    "chrome_options = Options()\n",
    "chrome_options.add_argument(\"--headless\")\n",
    "chrome_options.add_argument(\"--no-sandbox\")\n",
    "chrome_options.add_argument(\"--disable-dev-shm-usage\")\n",
    "driver = webdriver.Chrome(options=chrome_options)\n",
    "print(\"Running in headless mode.\")"
   ]
  },
  {
   "cell_type": "code",
   "execution_count": 48,
   "id": "65015c70",
   "metadata": {},
   "outputs": [],
   "source": [
    "df = pd.DataFrame(columns=[\"url\", \"title\", \"author\", \"date\", \"content\"])"
   ]
  },
  {
   "cell_type": "markdown",
   "id": "6b09e615-0499-415f-a87d-81d74a057b33",
   "metadata": {},
   "source": [
    "##### Getting specific article tag"
   ]
  },
  {
   "cell_type": "code",
   "execution_count": 49,
   "id": "8cb79333",
   "metadata": {},
   "outputs": [
    {
     "name": "stderr",
     "output_type": "stream",
     "text": [
      "Processing URLs:  37%|███▋      | 321/863 [11:09<13:01,  1.44s/it] "
     ]
    },
    {
     "name": "stdout",
     "output_type": "stream",
     "text": [
      "Error with link: https://www.news24nepal.com/detail/5326. Error: Message: no such element: Unable to locate element: {\"method\":\"css selector\",\"selector\":\".news-title-inner\"}\n",
      "  (Session info: chrome-headless-shell=127.0.6533.119); For documentation on this error, please visit: https://www.selenium.dev/documentation/webdriver/troubleshooting/errors#no-such-element-exception\n",
      "Stacktrace:\n",
      "0   chromedriver                        0x0000000102eb1024 cxxbridge1$str$ptr + 1887276\n",
      "1   chromedriver                        0x0000000102ea9700 cxxbridge1$str$ptr + 1856264\n",
      "2   chromedriver                        0x0000000102ab882c cxxbridge1$string$len + 88524\n",
      "3   chromedriver                        0x0000000102afc834 cxxbridge1$string$len + 367060\n",
      "4   chromedriver                        0x0000000102b3448c cxxbridge1$string$len + 595500\n",
      "5   chromedriver                        0x0000000102af1474 cxxbridge1$string$len + 321044\n",
      "6   chromedriver                        0x0000000102af20e4 cxxbridge1$string$len + 324228\n",
      "7   chromedriver                        0x0000000102e78a08 cxxbridge1$str$ptr + 1656336\n",
      "8   chromedriver                        0x0000000102e7d464 cxxbridge1$str$ptr + 1675372\n",
      "9   chromedriver                        0x0000000102e5e8ec cxxbridge1$str$ptr + 1549556\n",
      "10  chromedriver                        0x0000000102e7dc14 cxxbridge1$str$ptr + 1677340\n",
      "11  chromedriver                        0x0000000102e505fc cxxbridge1$str$ptr + 1491460\n",
      "12  chromedriver                        0x0000000102e9aa5c cxxbridge1$str$ptr + 1795684\n",
      "13  chromedriver                        0x0000000102e9abd8 cxxbridge1$str$ptr + 1796064\n",
      "14  chromedriver                        0x0000000102ea9334 cxxbridge1$str$ptr + 1855292\n",
      "15  libsystem_pthread.dylib             0x000000018d5cdf94 _pthread_start + 136\n",
      "16  libsystem_pthread.dylib             0x000000018d5c8d34 thread_start + 8\n",
      "\n"
     ]
    },
    {
     "name": "stderr",
     "output_type": "stream",
     "text": [
      "Processing URLs:  39%|███▉      | 336/863 [11:32<12:31,  1.43s/it]"
     ]
    },
    {
     "name": "stdout",
     "output_type": "stream",
     "text": [
      "Error with link: https://www.news24nepal.com/detail/5341. Error: Message: no such element: Unable to locate element: {\"method\":\"css selector\",\"selector\":\".news-title-inner\"}\n",
      "  (Session info: chrome-headless-shell=127.0.6533.119); For documentation on this error, please visit: https://www.selenium.dev/documentation/webdriver/troubleshooting/errors#no-such-element-exception\n",
      "Stacktrace:\n",
      "0   chromedriver                        0x0000000102eb1024 cxxbridge1$str$ptr + 1887276\n",
      "1   chromedriver                        0x0000000102ea9700 cxxbridge1$str$ptr + 1856264\n",
      "2   chromedriver                        0x0000000102ab882c cxxbridge1$string$len + 88524\n",
      "3   chromedriver                        0x0000000102afc834 cxxbridge1$string$len + 367060\n",
      "4   chromedriver                        0x0000000102b3448c cxxbridge1$string$len + 595500\n",
      "5   chromedriver                        0x0000000102af1474 cxxbridge1$string$len + 321044\n",
      "6   chromedriver                        0x0000000102af20e4 cxxbridge1$string$len + 324228\n",
      "7   chromedriver                        0x0000000102e78a08 cxxbridge1$str$ptr + 1656336\n",
      "8   chromedriver                        0x0000000102e7d464 cxxbridge1$str$ptr + 1675372\n",
      "9   chromedriver                        0x0000000102e5e8ec cxxbridge1$str$ptr + 1549556\n",
      "10  chromedriver                        0x0000000102e7dc14 cxxbridge1$str$ptr + 1677340\n",
      "11  chromedriver                        0x0000000102e505fc cxxbridge1$str$ptr + 1491460\n",
      "12  chromedriver                        0x0000000102e9aa5c cxxbridge1$str$ptr + 1795684\n",
      "13  chromedriver                        0x0000000102e9abd8 cxxbridge1$str$ptr + 1796064\n",
      "14  chromedriver                        0x0000000102ea9334 cxxbridge1$str$ptr + 1855292\n",
      "15  libsystem_pthread.dylib             0x000000018d5cdf94 _pthread_start + 136\n",
      "16  libsystem_pthread.dylib             0x000000018d5c8d34 thread_start + 8\n",
      "\n"
     ]
    },
    {
     "name": "stderr",
     "output_type": "stream",
     "text": [
      "Processing URLs:  40%|███▉      | 341/863 [11:40<12:48,  1.47s/it]"
     ]
    },
    {
     "name": "stdout",
     "output_type": "stream",
     "text": [
      "Error with link: https://www.news24nepal.com/detail/5346. Error: Message: no such element: Unable to locate element: {\"method\":\"css selector\",\"selector\":\".news-title-inner\"}\n",
      "  (Session info: chrome-headless-shell=127.0.6533.119); For documentation on this error, please visit: https://www.selenium.dev/documentation/webdriver/troubleshooting/errors#no-such-element-exception\n",
      "Stacktrace:\n",
      "0   chromedriver                        0x0000000102eb1024 cxxbridge1$str$ptr + 1887276\n",
      "1   chromedriver                        0x0000000102ea9700 cxxbridge1$str$ptr + 1856264\n",
      "2   chromedriver                        0x0000000102ab882c cxxbridge1$string$len + 88524\n",
      "3   chromedriver                        0x0000000102afc834 cxxbridge1$string$len + 367060\n",
      "4   chromedriver                        0x0000000102b3448c cxxbridge1$string$len + 595500\n",
      "5   chromedriver                        0x0000000102af1474 cxxbridge1$string$len + 321044\n",
      "6   chromedriver                        0x0000000102af20e4 cxxbridge1$string$len + 324228\n",
      "7   chromedriver                        0x0000000102e78a08 cxxbridge1$str$ptr + 1656336\n",
      "8   chromedriver                        0x0000000102e7d464 cxxbridge1$str$ptr + 1675372\n",
      "9   chromedriver                        0x0000000102e5e8ec cxxbridge1$str$ptr + 1549556\n",
      "10  chromedriver                        0x0000000102e7dc14 cxxbridge1$str$ptr + 1677340\n",
      "11  chromedriver                        0x0000000102e505fc cxxbridge1$str$ptr + 1491460\n",
      "12  chromedriver                        0x0000000102e9aa5c cxxbridge1$str$ptr + 1795684\n",
      "13  chromedriver                        0x0000000102e9abd8 cxxbridge1$str$ptr + 1796064\n",
      "14  chromedriver                        0x0000000102ea9334 cxxbridge1$str$ptr + 1855292\n",
      "15  libsystem_pthread.dylib             0x000000018d5cdf94 _pthread_start + 136\n",
      "16  libsystem_pthread.dylib             0x000000018d5c8d34 thread_start + 8\n",
      "\n"
     ]
    },
    {
     "name": "stderr",
     "output_type": "stream",
     "text": [
      "Processing URLs:  76%|███████▋  | 659/863 [20:38<04:43,  1.39s/it]"
     ]
    },
    {
     "name": "stdout",
     "output_type": "stream",
     "text": [
      "Error with link: https://www.news24nepal.com/detail/5664. Error: Message: no such element: Unable to locate element: {\"method\":\"css selector\",\"selector\":\".news-title-inner\"}\n",
      "  (Session info: chrome-headless-shell=127.0.6533.119); For documentation on this error, please visit: https://www.selenium.dev/documentation/webdriver/troubleshooting/errors#no-such-element-exception\n",
      "Stacktrace:\n",
      "0   chromedriver                        0x0000000102eb1024 cxxbridge1$str$ptr + 1887276\n",
      "1   chromedriver                        0x0000000102ea9700 cxxbridge1$str$ptr + 1856264\n",
      "2   chromedriver                        0x0000000102ab882c cxxbridge1$string$len + 88524\n",
      "3   chromedriver                        0x0000000102afc834 cxxbridge1$string$len + 367060\n",
      "4   chromedriver                        0x0000000102b3448c cxxbridge1$string$len + 595500\n",
      "5   chromedriver                        0x0000000102af1474 cxxbridge1$string$len + 321044\n",
      "6   chromedriver                        0x0000000102af20e4 cxxbridge1$string$len + 324228\n",
      "7   chromedriver                        0x0000000102e78a08 cxxbridge1$str$ptr + 1656336\n",
      "8   chromedriver                        0x0000000102e7d464 cxxbridge1$str$ptr + 1675372\n",
      "9   chromedriver                        0x0000000102e5e8ec cxxbridge1$str$ptr + 1549556\n",
      "10  chromedriver                        0x0000000102e7dc14 cxxbridge1$str$ptr + 1677340\n",
      "11  chromedriver                        0x0000000102e505fc cxxbridge1$str$ptr + 1491460\n",
      "12  chromedriver                        0x0000000102e9aa5c cxxbridge1$str$ptr + 1795684\n",
      "13  chromedriver                        0x0000000102e9abd8 cxxbridge1$str$ptr + 1796064\n",
      "14  chromedriver                        0x0000000102ea9334 cxxbridge1$str$ptr + 1855292\n",
      "15  libsystem_pthread.dylib             0x000000018d5cdf94 _pthread_start + 136\n",
      "16  libsystem_pthread.dylib             0x000000018d5c8d34 thread_start + 8\n",
      "\n"
     ]
    },
    {
     "name": "stderr",
     "output_type": "stream",
     "text": [
      "Processing URLs: 100%|██████████| 863/863 [32:08<00:00,  2.24s/it]\n"
     ]
    }
   ],
   "source": [
    "for index, row in tqdm(url_df.iterrows(), total=url_df.shape[0], desc=\"Processing URLs\"):\n",
    "    link = row['url']\n",
    "    \n",
    "    try:\n",
    "        driver.get(link)\n",
    "\n",
    "        # Extract the article title\n",
    "        title = driver.find_element(By.CLASS_NAME, 'news-title-inner').text\n",
    "\n",
    "        # Extract the author and date\n",
    "        author = driver.find_element(By.CLASS_NAME, 'author-name').text\n",
    "        date = driver.find_element(By.CLASS_NAME, 'date-line').text\n",
    "\n",
    "        # Extract the content inside the 'editor-box' div\n",
    "        editor_box = driver.find_element(By.CLASS_NAME, 'editor-box')\n",
    "        paragraphs = editor_box.find_elements(By.TAG_NAME, 'p')\n",
    "\n",
    "        # Combine all paragraphs into one string\n",
    "        content = \"\"\n",
    "        for para in paragraphs:\n",
    "            content += para.text + \"\\n\"\n",
    "\n",
    "        content = content.strip()  # Remove any trailing newlines\n",
    "\n",
    "        # Append the extracted data to the DataFrame\n",
    "        df.loc[len(df)] = [link, title, author, date, content]\n",
    "\n",
    "    except Exception as e:\n",
    "        print(f\"Error with link: {link}. Error: {e}\")"
   ]
  },
  {
   "cell_type": "code",
   "execution_count": 50,
   "id": "c2007dd1",
   "metadata": {},
   "outputs": [],
   "source": [
    "driver.close()"
   ]
  },
  {
   "cell_type": "code",
   "execution_count": 51,
   "id": "167064c8",
   "metadata": {},
   "outputs": [],
   "source": [
    "df.to_csv(\"extracted_articles.csv\", mode='a', header=False, index=False)"
   ]
  },
  {
   "cell_type": "code",
   "execution_count": 52,
   "id": "4b4baf1b",
   "metadata": {},
   "outputs": [
    {
     "name": "stdout",
     "output_type": "stream",
     "text": [
      "                                         url  \\\n",
      "0    https://www.news24nepal.com/detail/5006   \n",
      "1    https://www.news24nepal.com/detail/5007   \n",
      "2    https://www.news24nepal.com/detail/5008   \n",
      "3    https://www.news24nepal.com/detail/5009   \n",
      "4    https://www.news24nepal.com/detail/5010   \n",
      "..                                       ...   \n",
      "854  https://www.news24nepal.com/detail/5864   \n",
      "855  https://www.news24nepal.com/detail/5865   \n",
      "856  https://www.news24nepal.com/detail/5866   \n",
      "857  https://www.news24nepal.com/detail/5867   \n",
      "858  https://www.news24nepal.com/detail/5868   \n",
      "\n",
      "                                                 title          author  \\\n",
      "0                               कालीगण्डकी करिडोर ठप्प  न्युज २४ नेपाल   \n",
      "1    सेती नदीमा बाढी : ६० परिवार सुरक्षित स्थानमा स...  न्युज २४ नेपाल   \n",
      "2                     विदेशबाट फर्किएर स्वदेशमै उद्यम   न्युज २४ नेपाल   \n",
      "3    क्लब अफ साया काठमाडौंद्वारा निःशुल्क स्वास्थ्य...  न्युज २४ नेपाल   \n",
      "4    प्रचण्डको नयाँ तुरुपले देउवा तनावमा, ओलीमा छटप...  न्युज २४ नेपाल   \n",
      "..                                                 ...             ...   \n",
      "854  विद्यालयमा आगलागी हुँदा १७ बालबालिकाको मृत्यु,...  न्युज २४ नेपाल   \n",
      "855  नवनियुक्त प्रधानसेनापति सिग्देललाई दर्ज्यानी च...  न्युज २४ नेपाल   \n",
      "856  नदी किनारमा थप २० मिटर छोड्नुपर्ने सर्वोच्चको ...  न्युज २४ नेपाल   \n",
      "857  मेयर बालेनलाई एमाले सांसदको आग्रह- 'जनतालाई मर...  न्युज २४ नेपाल   \n",
      "858  काँग्रेस नेता धनराज गुरुङलाई सहकारी ठगीमा छानव...  न्युज २४ नेपाल   \n",
      "\n",
      "                      date                                            content  \n",
      "0    आइतबार, असार २३, २०८१  गलकोट । शनिबार बिहानैदेखि अवरुद्ध कालीगण्डकी क...  \n",
      "1    आइतबार, असार २३, २०८१  बैतडी । सेती नदीको बाढी बस्तीमा पस्न थालेपछि ब...  \n",
      "2    आइतबार, असार २३, २०८१  काठमाडौं । नेपालमा पछिल्लो केही बर्ष यता आफनै ...  \n",
      "3    आइतबार, असार २३, २०८१  काठमाडौं । क्लब अफ साया काठमाडौंले निशुल्क स्व...  \n",
      "4    आइतबार, असार २३, २०८१  काठमाडौं । दुई ठूला दल मिलेर सरकार बनाउने सहमत...  \n",
      "..                     ...                                                ...  \n",
      "854   सोमबार, भदौ २४, २०८१  एजेन्सी । केन्याकाे एक विद्यालयमा भएको आगलागीम...  \n",
      "855   सोमबार, भदौ २४, २०८१  काठमाडौँ । नेपाली सेनाको प्रधानसेनापतिमा महारथ...  \n",
      "856   सोमबार, भदौ २४, २०८१  काठमाडाैँ । प्रधानमन्त्री केपी शर्मा ओलीले काठ...  \n",
      "857   सोमबार, भदौ २४, २०८१  काठमाडाैँ । सत्तारुढ नेकपा (एमाले)का सांसद रघु...  \n",
      "858   सोमबार, भदौ २४, २०८१  काठमाडाैँ । राष्ट्रिय स्वतन्त्र पार्टीका सांसद...  \n",
      "\n",
      "[859 rows x 5 columns]\n"
     ]
    }
   ],
   "source": [
    "# Display the DataFrame\n",
    "print(df)"
   ]
  }
 ],
 "metadata": {
  "kernelspec": {
   "display_name": "Python 3 (ipykernel)",
   "language": "python",
   "name": "python3"
  },
  "language_info": {
   "codemirror_mode": {
    "name": "ipython",
    "version": 3
   },
   "file_extension": ".py",
   "mimetype": "text/x-python",
   "name": "python",
   "nbconvert_exporter": "python",
   "pygments_lexer": "ipython3",
   "version": "3.10.6"
  }
 },
 "nbformat": 4,
 "nbformat_minor": 5
}
