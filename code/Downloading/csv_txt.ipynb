{
 "cells": [
  {
   "cell_type": "code",
   "execution_count": 4,
   "metadata": {},
   "outputs": [
    {
     "name": "stdout",
     "output_type": "stream",
     "text": [
      "Text files have been saved to: articles\n"
     ]
    }
   ],
   "source": [
    "import pandas as pd\n",
    "import os\n",
    "\n",
    "# Load the CSV file (change the path to the location of your 'links.csv')\n",
    "csv_file_name = '/Users/dj/NLP_Scraping/nepal24/extracted_articles.csv'\n",
    "df = pd.read_csv(csv_file_name, header=None, names=['url', 'title', 'author', 'date', 'content'])  # Specify column names\n",
    "\n",
    "# Directory to save the individual text files\n",
    "output_dir = 'articles'\n",
    "\n",
    "# Create the output directory if it doesn't exist\n",
    "os.makedirs(output_dir, exist_ok=True)\n",
    "\n",
    "# Iterate through each row in the DataFrame and create a text file for each\n",
    "for i, row in df.iterrows():\n",
    "    file_name = os.path.join(output_dir, f\"{i}.txt\")\n",
    "    with open(file_name, 'w', encoding='utf-8') as file:\n",
    "        # Write URL, title, author, date, and content into the text file\n",
    "        file.write(f\"URL: {row['url']}\\n\\n\")\n",
    "        file.write(f\"Title: {row['title']}\\n\\n\")\n",
    "        file.write(f\"Author: {row['author']}\\n\\n\")\n",
    "        file.write(f\"Date: {row['date']}\\n\\n\")\n",
    "        file.write(f\"Content: {row['content']}\")\n",
    "\n",
    "print(f\"Text files have been saved to: {output_dir}\")\n"
   ]
  }
 ],
 "metadata": {
  "kernelspec": {
   "display_name": "myenv",
   "language": "python",
   "name": "python3"
  },
  "language_info": {
   "codemirror_mode": {
    "name": "ipython",
    "version": 3
   },
   "file_extension": ".py",
   "mimetype": "text/x-python",
   "name": "python",
   "nbconvert_exporter": "python",
   "pygments_lexer": "ipython3",
   "version": "3.10.6"
  }
 },
 "nbformat": 4,
 "nbformat_minor": 2
}
