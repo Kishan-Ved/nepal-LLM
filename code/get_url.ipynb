{
 "cells": [
  {
   "cell_type": "code",
   "execution_count": 17,
   "id": "a5c71bdf-d7f3-4d9b-90e6-c3f480021b69",
   "metadata": {},
   "outputs": [
    {
     "name": "stdout",
     "output_type": "stream",
     "text": [
      "Note: you may need to restart the kernel to use updated packages.\n"
     ]
    }
   ],
   "source": [
    "%pip install selenium -q"
   ]
  },
  {
   "cell_type": "code",
   "execution_count": 18,
   "id": "b865e6a5-e681-4dc5-8b90-52e49e0e5f7c",
   "metadata": {},
   "outputs": [],
   "source": [
    "from selenium import webdriver\n",
    "from selenium.webdriver.common.by import By\n",
    "from selenium.webdriver.chrome.options import Options\n",
    "import pandas as pd\n",
    "import time"
   ]
  },
  {
   "cell_type": "code",
   "execution_count": 19,
   "id": "7f8186ec-3eb3-4187-bc61-f7899ca29e0b",
   "metadata": {},
   "outputs": [],
   "source": [
    "base_url = \"https://www.news24nepal.com/mukhya?page=\""
   ]
  },
  {
   "cell_type": "code",
   "execution_count": 20,
   "id": "770121a8-e7fb-4e5f-91c6-210831b5f6a2",
   "metadata": {},
   "outputs": [],
   "source": [
    "## If chrome issue use the below code.\n",
    "try:\n",
    "    driver = webdriver.Chrome()\n",
    "except:\n",
    "    chrome_options = Options()\n",
    "    chrome_options.add_argument(\"--headless\")\n",
    "    chrome_options.add_argument(\"--no-sandbox\")\n",
    "    chrome_options.add_argument(\"--disable-dev-shm-usage\")\n",
    "    driver = webdriver.Chrome(options=chrome_options)\n",
    "    print(\"Running in headless mode.\")"
   ]
  },
  {
   "cell_type": "code",
   "execution_count": 21,
   "id": "00e85f8a-787a-4397-8791-45bbc72c3804",
   "metadata": {},
   "outputs": [],
   "source": [
    "all_links = set()\n",
    "page_number = 1"
   ]
  },
  {
   "cell_type": "markdown",
   "id": "2389ad0a-9703-44c5-a006-c15887572069",
   "metadata": {},
   "source": [
    "#### Link Extraction"
   ]
  },
  {
   "cell_type": "markdown",
   "id": "0cc3e62c-ce83-4571-99de-59ecccc75b0b",
   "metadata": {},
   "source": [
    "##### Getting specific section/division tag. \\<div>"
   ]
  },
  {
   "cell_type": "code",
   "execution_count": 22,
   "id": "ad566229",
   "metadata": {},
   "outputs": [],
   "source": [
    "def extract_featured_news():\n",
    "    try:\n",
    "        featured = driver.find_element(By.CSS_SELECTOR, 'div.featured-news a')\n",
    "        featured_link = featured.get_attribute(\"href\")\n",
    "        return featured_link\n",
    "    except Exception as e:\n",
    "        print(f\"No featured news found. Error: {e}\")\n",
    "        return None"
   ]
  },
  {
   "cell_type": "code",
   "execution_count": 23,
   "id": "58e04222-7a81-42f0-ac37-2955299c18e8",
   "metadata": {
    "scrolled": true
   },
   "outputs": [],
   "source": [
    "def extract_links():\n",
    "    div1 = driver.find_elements(By.CSS_SELECTOR, 'div.items.half-more-news')\n",
    "    if len(div1) != 1:\n",
    "        print(f\"Some problem with link: {base_url}{page_number}\")\n",
    "        return []\n",
    "\n",
    "    # Find all anchor tags with links\n",
    "    tag_a = div1[0].find_elements(By.TAG_NAME, 'a')\n",
    "    if len(tag_a) < 1:\n",
    "        print(f\"No links found on page: {driver.current_url}\")\n",
    "        return []\n",
    "\n",
    "    # Extract links from anchor tags\n",
    "    links = [a.get_attribute(\"href\") for a in tag_a if '/detail/' in a.get_attribute(\"href\")]\n",
    "    return links"
   ]
  },
  {
   "cell_type": "code",
   "execution_count": 24,
   "id": "ebf0c84c",
   "metadata": {},
   "outputs": [],
   "source": [
    "# def click_next():\n",
    "#     try:\n",
    "#         next_button = driver.find_element(By.CLASS_NAME, 'nextpostslink')\n",
    "#         next_button.click()\n",
    "#         print(next_button)\n",
    "#         time.sleep(2)  # Pause for page to load\n",
    "#         return True\n",
    "#     except Exception as e:\n",
    "#         print(f\"No more pages. Error: {e}\")\n",
    "#         return False"
   ]
  },
  {
   "cell_type": "code",
   "execution_count": 25,
   "id": "1d528c12",
   "metadata": {},
   "outputs": [
    {
     "name": "stdout",
     "output_type": "stream",
     "text": [
      "Scraping page: 1, URL: https://www.news24nepal.com/mukhya?page=1\n",
      "Scraping page: 2, URL: https://www.news24nepal.com/mukhya?page=2\n",
      "Scraping page: 3, URL: https://www.news24nepal.com/mukhya?page=3\n",
      "Scraping page: 4, URL: https://www.news24nepal.com/mukhya?page=4\n",
      "Scraping page: 5, URL: https://www.news24nepal.com/mukhya?page=5\n",
      "Scraping page: 6, URL: https://www.news24nepal.com/mukhya?page=6\n",
      "Scraping page: 7, URL: https://www.news24nepal.com/mukhya?page=7\n",
      "Scraping page: 8, URL: https://www.news24nepal.com/mukhya?page=8\n",
      "Scraping page: 9, URL: https://www.news24nepal.com/mukhya?page=9\n",
      "Scraping page: 10, URL: https://www.news24nepal.com/mukhya?page=10\n",
      "Scraping page: 11, URL: https://www.news24nepal.com/mukhya?page=11\n",
      "Scraping page: 12, URL: https://www.news24nepal.com/mukhya?page=12\n",
      "Scraping page: 13, URL: https://www.news24nepal.com/mukhya?page=13\n",
      "Scraping page: 14, URL: https://www.news24nepal.com/mukhya?page=14\n",
      "Scraping page: 15, URL: https://www.news24nepal.com/mukhya?page=15\n",
      "Scraping page: 16, URL: https://www.news24nepal.com/mukhya?page=16\n",
      "Scraping page: 17, URL: https://www.news24nepal.com/mukhya?page=17\n",
      "Scraping page: 18, URL: https://www.news24nepal.com/mukhya?page=18\n",
      "Scraping page: 19, URL: https://www.news24nepal.com/mukhya?page=19\n",
      "Scraping page: 20, URL: https://www.news24nepal.com/mukhya?page=20\n",
      "Scraping page: 21, URL: https://www.news24nepal.com/mukhya?page=21\n",
      "Scraping page: 22, URL: https://www.news24nepal.com/mukhya?page=22\n",
      "Scraping page: 23, URL: https://www.news24nepal.com/mukhya?page=23\n",
      "Scraping page: 24, URL: https://www.news24nepal.com/mukhya?page=24\n",
      "Scraping page: 25, URL: https://www.news24nepal.com/mukhya?page=25\n",
      "Scraping page: 26, URL: https://www.news24nepal.com/mukhya?page=26\n",
      "Scraping page: 27, URL: https://www.news24nepal.com/mukhya?page=27\n",
      "Scraping page: 28, URL: https://www.news24nepal.com/mukhya?page=28\n",
      "Scraping page: 29, URL: https://www.news24nepal.com/mukhya?page=29\n",
      "Scraping page: 30, URL: https://www.news24nepal.com/mukhya?page=30\n",
      "Scraping page: 31, URL: https://www.news24nepal.com/mukhya?page=31\n",
      "Scraping page: 32, URL: https://www.news24nepal.com/mukhya?page=32\n",
      "Scraping page: 33, URL: https://www.news24nepal.com/mukhya?page=33\n",
      "No featured news found. Error: Message: no such element: Unable to locate element: {\"method\":\"css selector\",\"selector\":\"div.featured-news a\"}\n",
      "  (Session info: chrome=127.0.6533.119); For documentation on this error, please visit: https://www.selenium.dev/documentation/webdriver/troubleshooting/errors#no-such-element-exception\n",
      "Stacktrace:\n",
      "0   chromedriver                        0x00000001032c1024 cxxbridge1$str$ptr + 1887276\n",
      "1   chromedriver                        0x00000001032b9700 cxxbridge1$str$ptr + 1856264\n",
      "2   chromedriver                        0x0000000102ec882c cxxbridge1$string$len + 88524\n",
      "3   chromedriver                        0x0000000102f0c834 cxxbridge1$string$len + 367060\n",
      "4   chromedriver                        0x0000000102f4448c cxxbridge1$string$len + 595500\n",
      "5   chromedriver                        0x0000000102f01474 cxxbridge1$string$len + 321044\n",
      "6   chromedriver                        0x0000000102f020e4 cxxbridge1$string$len + 324228\n",
      "7   chromedriver                        0x0000000103288a08 cxxbridge1$str$ptr + 1656336\n",
      "8   chromedriver                        0x000000010328d464 cxxbridge1$str$ptr + 1675372\n",
      "9   chromedriver                        0x000000010326e8ec cxxbridge1$str$ptr + 1549556\n",
      "10  chromedriver                        0x000000010328dc14 cxxbridge1$str$ptr + 1677340\n",
      "11  chromedriver                        0x00000001032605fc cxxbridge1$str$ptr + 1491460\n",
      "12  chromedriver                        0x00000001032aaa5c cxxbridge1$str$ptr + 1795684\n",
      "13  chromedriver                        0x00000001032aabd8 cxxbridge1$str$ptr + 1796064\n",
      "14  chromedriver                        0x00000001032b9334 cxxbridge1$str$ptr + 1855292\n",
      "15  libsystem_pthread.dylib             0x000000018d5cdf94 _pthread_start + 136\n",
      "16  libsystem_pthread.dylib             0x000000018d5c8d34 thread_start + 8\n",
      "\n",
      "Stopped at page 33 due to no links.\n"
     ]
    }
   ],
   "source": [
    "while True:\n",
    "    # Construct the URL with the incremented page number\n",
    "    current_url = base_url + str(page_number)\n",
    "    print(f\"Scraping page: {page_number}, URL: {current_url}\")\n",
    "    driver.get(current_url)\n",
    "    \n",
    "    # Extract the featured news link only on the first page\n",
    "    featured_link = extract_featured_news()\n",
    "    if featured_link:\n",
    "        all_links.add(featured_link)\n",
    "    \n",
    "    # Extract the links from the current page\n",
    "    links = extract_links()\n",
    "    if links:\n",
    "        all_links.update(links)\n",
    "    else:\n",
    "        print(f\"Stopped at page {page_number} due to no links.\")\n",
    "        break  # If no links found, exit the loop\n",
    "    \n",
    "    # Check if the page has any content\n",
    "    if \"No content\" in driver.page_source or len(links) == 0:\n",
    "        print(f\"Reached the last page: {page_number}\")\n",
    "        break\n",
    "\n",
    "    page_number += 1  # Increment the page counter\n",
    "    time.sleep(2) "
   ]
  },
  {
   "cell_type": "code",
   "execution_count": 26,
   "id": "7a7dc21e",
   "metadata": {},
   "outputs": [],
   "source": [
    "driver.close()"
   ]
  },
  {
   "cell_type": "code",
   "execution_count": 29,
   "id": "227f750c",
   "metadata": {},
   "outputs": [
    {
     "name": "stdout",
     "output_type": "stream",
     "text": [
      "                                        url\n",
      "0   https://www.news24nepal.com/detail/4449\n",
      "1   https://www.news24nepal.com/detail/4383\n",
      "2   https://www.news24nepal.com/detail/5802\n",
      "3   https://www.news24nepal.com/detail/4538\n",
      "4   https://www.news24nepal.com/detail/5311\n",
      "5   https://www.news24nepal.com/detail/3977\n",
      "6   https://www.news24nepal.com/detail/3583\n",
      "7   https://www.news24nepal.com/detail/5502\n",
      "8   https://www.news24nepal.com/detail/4294\n",
      "9   https://www.news24nepal.com/detail/4194\n",
      "10  https://www.news24nepal.com/detail/5084\n",
      "11  https://www.news24nepal.com/detail/4164\n",
      "12  https://www.news24nepal.com/detail/4531\n",
      "13  https://www.news24nepal.com/detail/4577\n",
      "14  https://www.news24nepal.com/detail/4897\n",
      "15  https://www.news24nepal.com/detail/5464\n",
      "16  https://www.news24nepal.com/detail/4993\n",
      "17  https://www.news24nepal.com/detail/3933\n",
      "18  https://www.news24nepal.com/detail/3679\n",
      "19  https://www.news24nepal.com/detail/5762\n",
      "20  https://www.news24nepal.com/detail/4523\n",
      "21  https://www.news24nepal.com/detail/4253\n",
      "22  https://www.news24nepal.com/detail/5447\n",
      "23  https://www.news24nepal.com/detail/4631\n",
      "24  https://www.news24nepal.com/detail/3615\n",
      "25  https://www.news24nepal.com/detail/5644\n",
      "26  https://www.news24nepal.com/detail/5592\n",
      "27  https://www.news24nepal.com/detail/5610\n",
      "28  https://www.news24nepal.com/detail/5696\n",
      "29  https://www.news24nepal.com/detail/5267\n"
     ]
    }
   ],
   "source": [
    "df = pd.DataFrame(list(all_links), columns=[\"url\"])\n",
    "# Display or save the dataframe\n",
    "print(df.head(30))"
   ]
  },
  {
   "cell_type": "code",
   "execution_count": 30,
   "id": "32dfcee0",
   "metadata": {},
   "outputs": [],
   "source": [
    "df.to_csv(\"url_1.csv\", mode='a', header=False, index=False)"
   ]
  }
 ],
 "metadata": {
  "kernelspec": {
   "display_name": "Python 3 (ipykernel)",
   "language": "python",
   "name": "python3"
  },
  "language_info": {
   "codemirror_mode": {
    "name": "ipython",
    "version": 3
   },
   "file_extension": ".py",
   "mimetype": "text/x-python",
   "name": "python",
   "nbconvert_exporter": "python",
   "pygments_lexer": "ipython3",
   "version": "3.10.6"
  }
 },
 "nbformat": 4,
 "nbformat_minor": 5
}
