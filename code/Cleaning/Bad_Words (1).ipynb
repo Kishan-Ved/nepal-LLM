{
 "cells": [
  {
   "cell_type": "markdown",
   "metadata": {},
   "source": [
    "## Using indic-transliteration Library"
   ]
  },
  {
   "cell_type": "code",
   "execution_count": 1,
   "metadata": {},
   "outputs": [],
   "source": [
    "!pip install indic-transliteration\n",
    "\n",
    "from IPython.display import clear_output\n",
    "from indic_transliteration import sanscript\n",
    "from indic_transliteration.sanscript import transliterate\n",
    "\n",
    "clear_output()"
   ]
  },
  {
   "cell_type": "code",
   "execution_count": 4,
   "metadata": {},
   "outputs": [],
   "source": []
  },
  {
   "cell_type": "code",
   "execution_count": 2,
   "metadata": {},
   "outputs": [
    {
     "name": "stdout",
     "output_type": "stream",
     "text": [
      "List of words from the file: ['Bndar Ko Chaak', 'Bhalu', 'Chick-day', 'Chickne', 'Dhoti', 'Goo kha', 'Gula chus randi', 'Jantha', 'Kangres', 'Lado', 'Lado chus', 'Lado kha', 'Lado ko tuppo', 'Lang Lang', 'Ma Rondi!', 'Ma chikni', 'Machikne', 'Madhesi', 'Morr Sali Morr!', 'Muji', 'Prachanda', 'Puti Chat Chu', 'Putin Chaat', 'Putin Chaat', 'Tutturay', 'beshya', 'bhalu ko poi', 'chaak ko pwal', 'chahk', 'chahk ko dulka', 'chak cha', 'condo', 'condo hannay', 'dudh', 'fushi kha', 'gand faat cha', 'goo kha', 'goo khai-ra morr', 'gula kha', 'kukur chikni', 'laando kha', 'lado', 'lado cocha', 'lamto', 'ma shaala', 'maa chikney!', 'mandale', 'maobadi', 'mero fushi kha', 'moot', 'mootday', 'moreko', 'moreko manchi', 'morryo', 'murda', 'muzy', 'pahadi', 'randi ko choro', 'pinko', 'puti kha', 'randiko choro', 'sungghur', 'turi tauke', 'Bandar Ko Chaak', 'Bhalu', 'Chick-day', 'Chickne', 'Dhoti', 'Goo kha', 'Gula chus randi', 'Jantha', 'Kangres', 'Lado', 'Lado chus', 'Lado kha', 'Lado ko tuppo', 'Lang Lang', 'Maa Rondi!', 'Maa chikni', 'Machikne', 'Madhesi', 'Morr Sali Morr', 'Muji', 'Prachanda', 'Puti Chat Chu', 'Putin Chaat', 'Randi ko baan', 'Tutturay', 'beshya', 'bhalu ko poi', 'chaak ko pwal', 'chahk', 'chahk ko dulka', 'chak cha', 'condo', 'condo hannay', 'dudh', 'fushi kha', 'gand faat cha', 'goo kha', 'goo khai ra morr', 'gula kha', 'kukur chikni', 'laando kha', 'lado', 'lado cocha', 'lamto', 'ma shaala', 'maa chikney', 'mandale', 'maobadi', 'mero fushi kha', 'moot', 'mootday', 'moreko', 'moreko manchi', 'morryo', 'murda', 'muzy', 'pahadi', 'pinko', 'puti kha', 'puti ko jhol', 'radi ko puti', 'randi ko choro', 'randiko choro', 'sungghur', 'turi tauke']\n"
     ]
    }
   ],
   "source": [
    "file_name = \"English_Bad_Words.txt\"\n",
    "\n",
    "english_word_list = []\n",
    "\n",
    "with open(file_name, 'r', encoding='utf-8') as file:\n",
    "    for line in file:\n",
    "        first_word = line.strip()\n",
    "        english_word_list.append(first_word)\n",
    "\n",
    "print(\"List of words from the file:\", english_word_list)"
   ]
  },
  {
   "cell_type": "code",
   "execution_count": 3,
   "metadata": {},
   "outputs": [
    {
     "name": "stdout",
     "output_type": "stream",
     "text": [
      "Devanagari words saved to Nepali_Bad_Words.txt\n"
     ]
    }
   ],
   "source": [
    "nepali_words = [transliterate(word, sanscript.ITRANS, sanscript.DEVANAGARI) for word in english_word_list]\n",
    "\n",
    "\n",
    "file_name = \"Nepali_Bad_Words.txt\"\n",
    "\n",
    "with open(file_name, 'w', encoding='utf-8') as file:\n",
    "    for dev_word in nepali_words:\n",
    "        file.write(dev_word + '\\n')\n",
    "\n",
    "print(f\"Devanagari words saved to {file_name}\")"
   ]
  },
  {
   "cell_type": "markdown",
   "metadata": {},
   "source": [
    "## Using Google Translate API - Library"
   ]
  },
  {
   "cell_type": "code",
   "execution_count": 4,
   "metadata": {},
   "outputs": [
    {
     "name": "stdout",
     "output_type": "stream",
     "text": [
      "{'af': 'afrikaans', 'sq': 'albanian', 'am': 'amharic', 'ar': 'arabic', 'hy': 'armenian', 'az': 'azerbaijani', 'eu': 'basque', 'be': 'belarusian', 'bn': 'bengali', 'bs': 'bosnian', 'bg': 'bulgarian', 'ca': 'catalan', 'ceb': 'cebuano', 'ny': 'chichewa', 'zh-cn': 'chinese (simplified)', 'zh-tw': 'chinese (traditional)', 'co': 'corsican', 'hr': 'croatian', 'cs': 'czech', 'da': 'danish', 'nl': 'dutch', 'en': 'english', 'eo': 'esperanto', 'et': 'estonian', 'tl': 'filipino', 'fi': 'finnish', 'fr': 'french', 'fy': 'frisian', 'gl': 'galician', 'ka': 'georgian', 'de': 'german', 'el': 'greek', 'gu': 'gujarati', 'ht': 'haitian creole', 'ha': 'hausa', 'haw': 'hawaiian', 'iw': 'hebrew', 'he': 'hebrew', 'hi': 'hindi', 'hmn': 'hmong', 'hu': 'hungarian', 'is': 'icelandic', 'ig': 'igbo', 'id': 'indonesian', 'ga': 'irish', 'it': 'italian', 'ja': 'japanese', 'jw': 'javanese', 'kn': 'kannada', 'kk': 'kazakh', 'km': 'khmer', 'ko': 'korean', 'ku': 'kurdish (kurmanji)', 'ky': 'kyrgyz', 'lo': 'lao', 'la': 'latin', 'lv': 'latvian', 'lt': 'lithuanian', 'lb': 'luxembourgish', 'mk': 'macedonian', 'mg': 'malagasy', 'ms': 'malay', 'ml': 'malayalam', 'mt': 'maltese', 'mi': 'maori', 'mr': 'marathi', 'mn': 'mongolian', 'my': 'myanmar (burmese)', 'ne': 'nepali', 'no': 'norwegian', 'or': 'odia', 'ps': 'pashto', 'fa': 'persian', 'pl': 'polish', 'pt': 'portuguese', 'pa': 'punjabi', 'ro': 'romanian', 'ru': 'russian', 'sm': 'samoan', 'gd': 'scots gaelic', 'sr': 'serbian', 'st': 'sesotho', 'sn': 'shona', 'sd': 'sindhi', 'si': 'sinhala', 'sk': 'slovak', 'sl': 'slovenian', 'so': 'somali', 'es': 'spanish', 'su': 'sundanese', 'sw': 'swahili', 'sv': 'swedish', 'tg': 'tajik', 'ta': 'tamil', 'te': 'telugu', 'th': 'thai', 'tr': 'turkish', 'uk': 'ukrainian', 'ur': 'urdu', 'ug': 'uyghur', 'uz': 'uzbek', 'vi': 'vietnamese', 'cy': 'welsh', 'xh': 'xhosa', 'yi': 'yiddish', 'yo': 'yoruba', 'zu': 'zulu'}\n"
     ]
    }
   ],
   "source": [
    "!pip install googletrans==4.0.0-rc1\n",
    "\n",
    "from IPython.display import clear_output\n",
    "import googletrans\n",
    "from googletrans import Translator\n",
    "\n",
    "clear_output()\n",
    "\n",
    "print(googletrans.LANGUAGES)"
   ]
  },
  {
   "cell_type": "code",
   "execution_count": 5,
   "metadata": {},
   "outputs": [
    {
     "name": "stdout",
     "output_type": "stream",
     "text": [
      "Original Word: Bndar Ko Chaak -> Translated Word: पट्टी कोख\n",
      "Original Word: Bhalu -> Translated Word: भलास\n",
      "Original Word: Chick-day -> Translated Word: कुखुरा\n",
      "Original Word: Chickne -> Translated Word: चल्ला\n",
      "Original Word: Dhoti -> Translated Word: डीटीए\n",
      "Original Word: Goo kha -> Translated Word: गोओ ख\n",
      "Original Word: Gula chus randi -> Translated Word: Guluk Chus रामंडी\n",
      "Original Word: Jantha -> Translated Word: जोन\n",
      "Original Word: Kangres -> Translated Word: सम्मेलन\n",
      "Original Word: Lado -> Translated Word: लीडो\n",
      "Original Word: Lado chus -> Translated Word: लाड चिन्ह\n",
      "Original Word: Lado kha -> Translated Word: लाओडी ख\n",
      "Original Word: Lado ko tuppo -> Translated Word: लाडो को टूप्पो\n",
      "Original Word: Lang Lang -> Translated Word: ले ang ले dang\n",
      "Original Word: Ma Rondi! -> Translated Word: म रोंडी!\n",
      "Original Word: Ma chikni -> Translated Word: मा चिकानी\n",
      "Original Word: Machikne -> Translated Word: मारिकी\n",
      "Original Word: Madhesi -> Translated Word: मधेसी\n",
      "Original Word: Morr Sali Morr! -> Translated Word: मोर सली मोर!\n",
      "Original Word: Muji -> Translated Word: मुंगी\n",
      "Original Word: Prachanda -> Translated Word: प्रचण्ड\n",
      "Original Word: Puti Chat Chu -> Translated Word: Beti कुराकानी चू\n",
      "Original Word: Putin Chaat -> Translated Word: Punin चाट\n",
      "Original Word: Putin Chaat -> Translated Word: Punin चाट\n",
      "Original Word: Tutturay -> Translated Word: Tuttrurt\n",
      "Original Word: beshya -> Translated Word: बेशिया\n",
      "Original Word: bhalu ko poi -> Translated Word: भालुवा कोरी PUI\n",
      "Original Word: chaak ko pwal -> Translated Word: चाक को पवन\n",
      "Original Word: chahk -> Translated Word: यरूशलेरको पर्दा खोक\n",
      "Original Word: chahk ko dulka -> Translated Word: चाच को dulkka\n",
      "Original Word: chak cha -> Translated Word: चाके चैंगा\n",
      "Original Word: condo -> Translated Word: नाप्नु\n",
      "Original Word: condo hannay -> Translated Word: कन्डो हनोन\n",
      "Original Word: dudh -> Translated Word: डोउ!\n",
      "Original Word: fushi kha -> Translated Word: Fuli ख\n",
      "Original Word: gand faat cha -> Translated Word: गान्ड फाराम चा\n",
      "Original Word: goo kha -> Translated Word: गोओ ख\n",
      "Original Word: goo khai-ra morr -> Translated Word: Goo खैर अधिक\n",
      "Original Word: gula kha -> Translated Word: gulua ख\n",
      "Original Word: kukur chikni -> Translated Word: कुकुर चिकनी\n",
      "Original Word: laando kha -> Translated Word: लाडाना ख\n",
      "Original Word: lado -> Translated Word: लीडो\n",
      "Original Word: lado cocha -> Translated Word: लाओडो कोचा\n",
      "Original Word: lamto -> Translated Word: लामटो\n",
      "Original Word: ma shaala -> Translated Word: एम शाला\n",
      "Original Word: maa chikney! -> Translated Word: माई चिरानी!\n",
      "Original Word: mandale -> Translated Word: मदिततन्त्र\n",
      "Original Word: maobadi -> Translated Word: Maobadi\n",
      "Original Word: mero fushi kha -> Translated Word: मेरू fului ख\n",
      "Original Word: moot -> Translated Word: मूर्ख\n",
      "Original Word: mootday -> Translated Word: मूर्ख रामो\n",
      "Original Word: moreko -> Translated Word: अधिको\n",
      "Original Word: moreko manchi -> Translated Word: अधिकको माची\n",
      "Original Word: morryo -> Translated Word: मोरीडो\n",
      "Original Word: murda -> Translated Word: दाया\n",
      "Original Word: muzy -> Translated Word: भुसी\n",
      "Original Word: pahadi -> Translated Word: पौददद\n",
      "Original Word: randi ko choro -> Translated Word: रान्की को चेरो\n",
      "Original Word: pinko -> Translated Word: गुलाओ\n",
      "Original Word: puti kha -> Translated Word: Beti ख\n",
      "Original Word: randiko choro -> Translated Word: रांडिका कोरो\n",
      "Original Word: sungghur -> Translated Word: Sunghurur\n",
      "Original Word: turi tauke -> Translated Word: टुर सबोक\n",
      "Original Word: Bandar Ko Chaak -> Translated Word: पट्टी कोख\n",
      "Original Word: Bhalu -> Translated Word: भलास\n",
      "Original Word: Chick-day -> Translated Word: कुखुरा\n",
      "Original Word: Chickne -> Translated Word: चल्ला\n",
      "Original Word: Dhoti -> Translated Word: डीटीए\n",
      "Original Word: Goo kha -> Translated Word: गोओ ख\n",
      "Original Word: Gula chus randi -> Translated Word: Guluk Chus रामंडी\n",
      "Original Word: Jantha -> Translated Word: जोन\n",
      "Original Word: Kangres -> Translated Word: सम्मेलन\n",
      "Original Word: Lado -> Translated Word: लीडो\n",
      "Original Word: Lado chus -> Translated Word: लाड चिन्ह\n",
      "Original Word: Lado kha -> Translated Word: लाओडी ख\n",
      "Original Word: Lado ko tuppo -> Translated Word: लाडो को टूप्पो\n",
      "Original Word: Lang Lang -> Translated Word: ले ang ले dang\n",
      "Original Word: Maa Rondi! -> Translated Word: माए रोंडी!\n",
      "Original Word: Maa chikni -> Translated Word: माई चिकानी\n",
      "Original Word: Machikne -> Translated Word: मारिकी\n",
      "Original Word: Madhesi -> Translated Word: मधेसी\n",
      "Original Word: Morr Sali Morr -> Translated Word: मोर सली मोरर\n",
      "Original Word: Muji -> Translated Word: मुंगी\n",
      "Original Word: Prachanda -> Translated Word: प्रचण्ड\n",
      "Original Word: Puti Chat Chu -> Translated Word: Beti कुराकानी चू\n",
      "Original Word: Putin Chaat -> Translated Word: Punin चाट\n",
      "Original Word: Randi ko baan -> Translated Word: रंडी को बेल\n",
      "Original Word: Tutturay -> Translated Word: Tuttrurt\n",
      "Original Word: beshya -> Translated Word: बेशिया\n",
      "Original Word: bhalu ko poi -> Translated Word: भालुवा कोरी PUI\n",
      "Original Word: chaak ko pwal -> Translated Word: चाक को पवन\n",
      "Original Word: chahk -> Translated Word: यरूशलेरको पर्दा खोक\n",
      "Original Word: chahk ko dulka -> Translated Word: चाच को dulkka\n",
      "Original Word: chak cha -> Translated Word: चाके चैंगा\n",
      "Original Word: condo -> Translated Word: नाप्नु\n",
      "Original Word: condo hannay -> Translated Word: कन्डो हनोन\n",
      "Original Word: dudh -> Translated Word: डोउ!\n",
      "Original Word: fushi kha -> Translated Word: Fuli ख\n",
      "Original Word: gand faat cha -> Translated Word: गान्ड फाराम चा\n",
      "Original Word: goo kha -> Translated Word: गोओ ख\n",
      "Original Word: goo khai ra morr -> Translated Word: Goo खैर अधिक\n",
      "Original Word: gula kha -> Translated Word: gulua ख\n",
      "Original Word: kukur chikni -> Translated Word: कुकुर चिकनी\n",
      "Original Word: laando kha -> Translated Word: लाडाना ख\n",
      "Original Word: lado -> Translated Word: लीडो\n",
      "Original Word: lado cocha -> Translated Word: लाओडो कोचा\n",
      "Original Word: lamto -> Translated Word: लामटो\n",
      "Original Word: ma shaala -> Translated Word: एम शाला\n",
      "Original Word: maa chikney -> Translated Word: माई Chikey\n",
      "Original Word: mandale -> Translated Word: मदिततन्त्र\n",
      "Original Word: maobadi -> Translated Word: Maobadi\n",
      "Original Word: mero fushi kha -> Translated Word: मेरू fului ख\n",
      "Original Word: moot -> Translated Word: मूर्ख\n",
      "Original Word: mootday -> Translated Word: मूर्ख रामो\n",
      "Original Word: moreko -> Translated Word: अधिको\n",
      "Original Word: moreko manchi -> Translated Word: अधिकको माची\n",
      "Original Word: morryo -> Translated Word: मोरीडो\n",
      "Original Word: murda -> Translated Word: दाया\n",
      "Original Word: muzy -> Translated Word: भुसी\n",
      "Original Word: pahadi -> Translated Word: पौददद\n",
      "Original Word: pinko -> Translated Word: गुलाओ\n",
      "Original Word: puti kha -> Translated Word: Beti ख\n",
      "Original Word: puti ko jhol -> Translated Word: Beti को Jolo\n",
      "Original Word: radi ko puti -> Translated Word: रेडियो कोहे\n",
      "Original Word: randi ko choro -> Translated Word: रान्की को चेरो\n",
      "Original Word: randiko choro -> Translated Word: रांडिका कोरो\n",
      "Original Word: sungghur -> Translated Word: Sunghurur\n",
      "Original Word: turi tauke -> Translated Word: टुर सबोक\n"
     ]
    }
   ],
   "source": [
    "input_file = \"English_Bad_Words.txt\"\n",
    "output_file = \"Nepali_Bad_Words_2.txt\"\n",
    "\n",
    "translator = Translator()\n",
    "\n",
    "with open(input_file, 'r', encoding='utf-8') as file:\n",
    "    for line in file:\n",
    "        word = line.strip()\n",
    "        translated_word = translator.translate(word, src='en', dest='ne')\n",
    "        print(f\"Original Word: {word} -> Translated Word: {translated_word.text}\")\n",
    "        with open(output_file, 'a', encoding='utf-8') as output:\n",
    "            output.write(translated_word.text + '\\n')\n"
   ]
  },
  {
   "cell_type": "code",
   "execution_count": null,
   "metadata": {},
   "outputs": [],
   "source": []
  }
 ],
 "metadata": {
  "kernelspec": {
   "display_name": "base",
   "language": "python",
   "name": "python3"
  },
  "language_info": {
   "codemirror_mode": {
    "name": "ipython",
    "version": 3
   },
   "file_extension": ".py",
   "mimetype": "text/x-python",
   "name": "python",
   "nbconvert_exporter": "python",
   "pygments_lexer": "ipython3",
   "version": "3.9.13"
  }
 },
 "nbformat": 4,
 "nbformat_minor": 2
}
