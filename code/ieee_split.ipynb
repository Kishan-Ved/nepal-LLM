{
 "cells": [
  {
   "cell_type": "code",
   "execution_count": 2,
   "metadata": {},
   "outputs": [],
   "source": [
    "from transformers import AutoTokenizer"
   ]
  },
  {
   "cell_type": "code",
   "execution_count": 7,
   "metadata": {},
   "outputs": [
    {
     "data": {
      "text/plain": [
       "[('▁Hello,', (0, 6)),\n",
       " ('▁how', (7, 10)),\n",
       " ('▁are', (11, 14)),\n",
       " ('▁you?', (15, 19))]"
      ]
     },
     "execution_count": 7,
     "metadata": {},
     "output_type": "execute_result"
    }
   ],
   "source": [
    "tokenzer =  AutoTokenizer.from_pretrained('t5-small')\n",
    "tokenzer.backend_tokenizer.pre_tokenizer.pre_tokenize_str(\"Hello, how are you?\")"
   ]
  },
  {
   "cell_type": "code",
   "execution_count": null,
   "metadata": {},
   "outputs": [],
   "source": [
    "import os\n",
    "import re\n",
    "\n",
    "# Define the path to the input file\n",
    "input_file = '/Users/dj/NLP_Scraping/combined/misc/compiled.txt'  # Replace with the actual path to your txt file\n",
    "output_folder = '/Users/dj/NLP_Scraping/combined/misc/split_articles'\n",
    "\n",
    "# Create the output folder if it doesn't exist\n",
    "os.makedirs(output_folder, exist_ok=True)\n",
    "\n",
    "# Read the content of the input file\n",
    "with open(input_file, 'r', encoding='utf-8') as f:\n",
    "    content = f.read()\n",
    "\n",
    "# Split the content based on <archive_file> tags and also capture data outside the tags\n",
    "# The regex matches any content outside and inside the <archive_file> and </archive_file>\n",
    "split_content = re.split(r'(<archive_file filename=\"[^\"]+\">.*?</archive_file>)', content, flags=re.DOTALL)\n",
    "\n",
    "# Loop through the split content and save each part as an individual file\n",
    "for i, part in enumerate(split_content):\n",
    "    part = part.strip()  # Remove leading and trailing whitespaces\n",
    "    if part:  # Only save non-empty content\n",
    "        # If the part contains an archive_file tag, extract the content between the tags\n",
    "        match = re.search(r'<archive_file filename=\"[^\"]+\">(.*?)</archive_file>', part, re.DOTALL)\n",
    "        if match:\n",
    "            # Content inside the <archive_file> tags\n",
    "            article_content = match.group(1).strip()\n",
    "        else:\n",
    "            # Content outside of <archive_file> tags (such as intro or in-between data)\n",
    "            article_content = part\n",
    "        \n",
    "        # Define the output file name (0.txt, 1.txt, 2.txt, etc.)\n",
    "        output_file = os.path.join(output_folder, f'{i}.txt')\n",
    "        \n",
    "        # Write the article content to the file\n",
    "        with open(output_file, 'w', encoding='utf-8') as f:\n",
    "            f.write(article_content)\n",
    "        \n",
    "        print(f'Saved: {output_file}')\n",
    "\n",
    "print(\"Splitting done.\")\n"
   ]
  },
  {
   "cell_type": "code",
   "execution_count": null,
   "metadata": {},
   "outputs": [],
   "source": []
  },
  {
   "cell_type": "code",
   "execution_count": null,
   "metadata": {},
   "outputs": [],
   "source": []
  }
 ],
 "metadata": {
  "kernelspec": {
   "display_name": "Python 3",
   "language": "python",
   "name": "python3"
  },
  "language_info": {
   "codemirror_mode": {
    "name": "ipython",
    "version": 3
   },
   "file_extension": ".py",
   "mimetype": "text/x-python",
   "name": "python",
   "nbconvert_exporter": "python",
   "pygments_lexer": "ipython3",
   "version": "3.10.6"
  }
 },
 "nbformat": 4,
 "nbformat_minor": 2
}
