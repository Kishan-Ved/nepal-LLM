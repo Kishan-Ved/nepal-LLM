{
 "cells": [
  {
   "cell_type": "markdown",
   "metadata": {},
   "source": [
    "# $\\text{Extractor for Nepali Blogs}$"
   ]
  },
  {
   "cell_type": "code",
   "execution_count": 1,
   "metadata": {},
   "outputs": [],
   "source": [
    "import pandas as pd\n",
    "import os\n",
    "from selenium import webdriver\n",
    "from selenium.webdriver.common.by import By\n",
    "from selenium.webdriver.chrome.options import Options\n",
    "from selenium.webdriver.chrome.service import Service\n",
    "import pandas as pd\n",
    "from tqdm import tqdm"
   ]
  },
  {
   "cell_type": "markdown",
   "metadata": {},
   "source": [
    "Blog 2: Ghumante: https://ghumante.com/"
   ]
  },
  {
   "cell_type": "code",
   "execution_count": 2,
   "metadata": {},
   "outputs": [],
   "source": [
    "# Set up Firefox options for headless mode\n",
    "firefox_options = webdriver.FirefoxOptions()\n",
    "firefox_options.add_argument(\"--headless\") \n",
    " # Disable Images\n",
    "firefox_profile = webdriver.FirefoxProfile()\n",
    "firefox_profile.set_preference(\"permissions.default.image\", 2)\n",
    "\n",
    "# Disable CSS (using custom preferences to block stylesheets)\n",
    "firefox_profile.set_preference(\"permissions.default.stylesheet\", 2)  # Run in headless mode (without GUI)\n",
    "\n",
    "# Initialize the Firefox WebDriver with service and options\n",
    "driver = webdriver.Firefox(executable_path = \"/mnt/HDFS1/language_nlp/nepali_nlp_team_3/geckodriver\", options=firefox_options, firefox_profile=firefox_profile)"
   ]
  },
  {
   "cell_type": "code",
   "execution_count": 3,
   "metadata": {},
   "outputs": [],
   "source": [
    "df = pd.read_csv('ghumante.csv')"
   ]
  },
  {
   "cell_type": "code",
   "execution_count": 4,
   "metadata": {},
   "outputs": [],
   "source": [
    "if not os.path.exists('content'):\n",
    "    os.makedirs('content')\n",
    "if not os.path.exists('content/ghumante'):\n",
    "    os.makedirs('content/ghumante')"
   ]
  },
  {
   "cell_type": "code",
   "execution_count": 5,
   "metadata": {},
   "outputs": [
    {
     "name": "stderr",
     "output_type": "stream",
     "text": [
      "100%|██████████| 3/3 [00:28<00:00,  9.35s/it]\n"
     ]
    }
   ],
   "source": [
    "links = df[\"Link\"]\n",
    "titles = df[\"Title\"]\n",
    "content_path = \"content/ghumante/\"\n",
    "\n",
    "for i in tqdm(range(len(links))):\n",
    "    driver.get(links.iloc[i])\n",
    "    main_class = driver.find_elements(by = By.CLASS_NAME, value = \"post-content\")\n",
    "    p_tags = main_class[0].find_elements(by = By.TAG_NAME, value = \"p\")\n",
    "    text = \"\"\n",
    "    for p in p_tags:\n",
    "        text += p.text + \"\\n\"\n",
    "    if not os.path.exists(content_path + str(i) + \".txt\"):\n",
    "        with open(content_path + str(i) + \".txt\", \"w\") as file:\n",
    "            file.write(titles.iloc[i] + '\\n\\n' + text)\n",
    "        file.close()"
   ]
  },
  {
   "cell_type": "code",
   "execution_count": 6,
   "metadata": {},
   "outputs": [],
   "source": [
    "driver.close()"
   ]
  }
 ],
 "metadata": {
  "kernelspec": {
   "display_name": "nepali_venv",
   "language": "python",
   "name": "python3"
  },
  "language_info": {
   "codemirror_mode": {
    "name": "ipython",
    "version": 3
   },
   "file_extension": ".py",
   "mimetype": "text/x-python",
   "name": "python",
   "nbconvert_exporter": "python",
   "pygments_lexer": "ipython3",
   "version": "3.6.8"
  }
 },
 "nbformat": 4,
 "nbformat_minor": 2
}
