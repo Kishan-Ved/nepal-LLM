{
 "cells": [
  {
   "cell_type": "markdown",
   "metadata": {},
   "source": [
    "# $\\text{Crawler1}$"
   ]
  },
  {
   "cell_type": "code",
   "execution_count": null,
   "metadata": {},
   "outputs": [],
   "source": [
    "import pandas as pd\n",
    "import os\n",
    "from selenium import webdriver\n",
    "from selenium.webdriver.common.by import By\n",
    "from selenium.webdriver.chrome.options import Options\n",
    "from selenium.webdriver.chrome.service import Service\n",
    "import pandas as pd\n",
    "from tqdm import tqdm"
   ]
  },
  {
   "cell_type": "markdown",
   "metadata": {},
   "source": [
    "Blog 1: Mysansar: https://mysansar.com/"
   ]
  },
  {
   "cell_type": "code",
   "execution_count": 45,
   "metadata": {},
   "outputs": [],
   "source": [
    "# Set up Firefox options for headless mode\n",
    "firefox_options = webdriver.FirefoxOptions()\n",
    "firefox_options.add_argument(\"--headless\") \n",
    " # Disable Images\n",
    "firefox_profile = webdriver.FirefoxProfile()\n",
    "firefox_profile.set_preference(\"permissions.default.image\", 2)\n",
    "\n",
    "# Disable CSS (using custom preferences to block stylesheets)\n",
    "firefox_profile.set_preference(\"permissions.default.stylesheet\", 2)  # Run in headless mode (without GUI)\n",
    "\n",
    "# Initialize the Firefox WebDriver with service and options\n",
    "driver = webdriver.Firefox(executable_path = \"/mnt/HDFS1/language_nlp/nepali_nlp_team_3/geckodriver\", options=firefox_options, firefox_profile=firefox_profile)"
   ]
  },
  {
   "cell_type": "code",
   "execution_count": 48,
   "metadata": {},
   "outputs": [
    {
     "name": "stderr",
     "output_type": "stream",
     "text": [
      "100%|██████████| 279/279 [10:24<00:00,  2.24s/it]\n"
     ]
    }
   ],
   "source": [
    "links = []\n",
    "titles = []\n",
    "pages_url = \"https://mysansar.com/page/\"\n",
    "for page_no in tqdm(range(1, 280)):\n",
    "    driver.get(pages_url + str(page_no))\n",
    "    header_tags = driver.find_elements(by = By.CLASS_NAME, value = \"entry-header\")\n",
    "    for i in range(len(header_tags)):\n",
    "        ele = header_tags[i].find_element(by = By.TAG_NAME, value = \"a\")\n",
    "        links.append(ele.get_attribute(\"href\"))\n",
    "        titles.append(ele.text)"
   ]
  },
  {
   "cell_type": "code",
   "execution_count": 49,
   "metadata": {},
   "outputs": [],
   "source": [
    "df = pd.DataFrame(list(zip(titles, links)), columns =['Title', 'Link'])"
   ]
  },
  {
   "cell_type": "code",
   "execution_count": 50,
   "metadata": {},
   "outputs": [],
   "source": [
    "df.to_csv(\"mysansar.csv\", index=False)"
   ]
  },
  {
   "cell_type": "code",
   "execution_count": 51,
   "metadata": {},
   "outputs": [],
   "source": [
    "driver.close()"
   ]
  },
  {
   "cell_type": "markdown",
   "metadata": {},
   "source": [
    "---\n",
    "---"
   ]
  },
  {
   "cell_type": "markdown",
   "metadata": {},
   "source": [
    "Blog 2: Ghumante: https://ghumante.com/"
   ]
  },
  {
   "cell_type": "code",
   "execution_count": 52,
   "metadata": {},
   "outputs": [],
   "source": [
    "# Set up Firefox options for headless mode\n",
    "firefox_options = webdriver.FirefoxOptions()\n",
    "firefox_options.add_argument(\"--headless\") \n",
    " # Disable Images\n",
    "firefox_profile = webdriver.FirefoxProfile()\n",
    "firefox_profile.set_preference(\"permissions.default.image\", 2)\n",
    "\n",
    "# Disable CSS (using custom preferences to block stylesheets)\n",
    "firefox_profile.set_preference(\"permissions.default.stylesheet\", 2)  # Run in headless mode (without GUI)\n",
    "\n",
    "# Initialize the Firefox WebDriver with service and options\n",
    "driver = webdriver.Firefox(executable_path = \"/mnt/HDFS1/language_nlp/nepali_nlp_team_3/geckodriver\", options=firefox_options, firefox_profile=firefox_profile)"
   ]
  },
  {
   "cell_type": "code",
   "execution_count": 56,
   "metadata": {},
   "outputs": [
    {
     "name": "stderr",
     "output_type": "stream",
     "text": [
      "100%|██████████| 5/5 [00:25<00:00,  5.06s/it]\n"
     ]
    }
   ],
   "source": [
    "links = []\n",
    "titles = []\n",
    "\n",
    "page_url = \"https://ghumante.com/\"\n",
    "driver.get(pages_url + str(page_no))\n",
    "header_tags = driver.find_elements(by = By.CLASS_NAME, value = \"post-title\")\n",
    "for i in range(len(header_tags)):\n",
    "    ele = header_tags[i].find_element(by = By.TAG_NAME, value = \"a\")\n",
    "    titles.append(ele.text)\n",
    "    links.append(ele.get_attribute(\"href\"))\n",
    "\n",
    "pages_url = \"https://ghumante.com/page/\"\n",
    "for page_no in tqdm(range(2, 7)):\n",
    "    driver.get(pages_url + str(page_no))\n",
    "    header_tags = driver.find_elements(by = By.CLASS_NAME, value = \"post-title\")\n",
    "    for i in range(len(header_tags)):\n",
    "        ele = header_tags[i].find_element(by = By.TAG_NAME, value = \"a\")\n",
    "        titles.append(ele.text)\n",
    "        links.append(ele.get_attribute(\"href\"))"
   ]
  },
  {
   "cell_type": "code",
   "execution_count": 58,
   "metadata": {},
   "outputs": [
    {
     "name": "stdout",
     "output_type": "stream",
     "text": [
      "0 Magnificent Khaptad.\n",
      "1 Langtang\n",
      "2 Hike to Gosainkuda\n",
      "3 Kalinchowk – An Adventure Pilgrimage\n",
      "4 Mustang- the Forbidden Kingdom\n",
      "5 Waling, the heart of Syangja\n",
      "6 On traveling\n",
      "7 Khopra Ridge Trek\n",
      "8 An Evening by the Lake\n",
      "9 A quick escape into wilderness; Bethanchowk, Narayanthan Hike\n",
      "10 Manaslu Circuit Trek, Video (Itinerary)\n",
      "11 Journey to Poon Hill, Nepal\n",
      "12 In the lap of nature; Godawari\n",
      "13 Karnali Diaries\n",
      "14 राजधानीदेखि रारासम्म\n",
      "15 Traveler’s Tale: Trip to Kalinchowk, A Heaven on Earth\n",
      "16 Ghumante Photo Exhibition 2017 “Art for Animals”\n",
      "17 First Ghumante Photo Exhibition 2017\n",
      "18 Trek to Imja Glacial Lake\n",
      "19 My Solo Annapurna Base Camp Escapade\n",
      "20 Poon hill Trek\n",
      "21 Nepal vs Laos, Semifinal Live, AFC Solidarity Cup 2016\n",
      "22 My First Trip to Nepal\n",
      "23 Garden City of Seven lakes: Lekhnath\n",
      "24 Final Results, “Ghumante Epic Selfie/Welfie/Selfshot Contest”\n",
      "25 Announcing “Ghumante Epic Selfie Contest”\n",
      "26 Five Travel Zombies’ escapade,a trip to Khaptad National Park!\n",
      "27 Mountain Calls : How I Spent The Best 10 Days Of My Life Trekking Annapurna Circuit !\n",
      "28 The unexpected journey in the Kingdom of Lo\n",
      "29 Backpacker’s Valentine\n",
      "30 Annapurna Circuit Trek\n",
      "31 The Mardi Trek\n",
      "32 मनकामना यात्रा, भुकम्प पछिका तिता मिठा अनुभव\n",
      "33 Mardi Base Camp Calls\n",
      "34 The Forbidden Kingdom!\n",
      "35 Holidaying in the Street: The echoes of Patan\n",
      "36 NIP in association with Ghumante Travel photo contest Winners #NIPTRAVELS\n",
      "37 #NIPTRAVELS, NIP Photo Contest- It’s getting Hot!\n",
      "38 Beautiful Illam in Photos\n",
      "39 Visit to Sauraha\n",
      "40 A Journey in Lower Mustang: Jomsom – Kagbeni – Muktinath\n",
      "41 Adventure of a Life Time, the Rolwaling Valley!\n",
      "42 Taplejung, The Wow Fareast!\n",
      "43 Landruk Trek\n",
      "44 छोमरोङ गाउँको सेरोफेरो\n",
      "45 Magnificent Khaptad.\n",
      "46 Langtang\n",
      "47 Hike to Gosainkuda\n",
      "48 Kalinchowk – An Adventure Pilgrimage\n",
      "49 Mustang- the Forbidden Kingdom\n"
     ]
    }
   ],
   "source": [
    "for i in range(len(titles)):\n",
    "    print(i, titles[i])"
   ]
  },
  {
   "cell_type": "code",
   "execution_count": 59,
   "metadata": {},
   "outputs": [],
   "source": [
    "df = pd.DataFrame(list(zip([titles[14], titles[32], titles[44]], [links[14], links[32], links[44]])), columns =['Title', 'Link'])"
   ]
  },
  {
   "cell_type": "code",
   "execution_count": 60,
   "metadata": {},
   "outputs": [],
   "source": [
    "df.to_csv(\"ghumante.csv\", index=False)"
   ]
  },
  {
   "cell_type": "code",
   "execution_count": 61,
   "metadata": {},
   "outputs": [],
   "source": [
    "driver.close()"
   ]
  }
 ],
 "metadata": {
  "kernelspec": {
   "display_name": "nepali_venv",
   "language": "python",
   "name": "python3"
  },
  "language_info": {
   "codemirror_mode": {
    "name": "ipython",
    "version": 3
   },
   "file_extension": ".py",
   "mimetype": "text/x-python",
   "name": "python",
   "nbconvert_exporter": "python",
   "pygments_lexer": "ipython3",
   "version": "3.6.8"
  }
 },
 "nbformat": 4,
 "nbformat_minor": 2
}
