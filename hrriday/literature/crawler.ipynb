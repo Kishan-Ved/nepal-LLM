{
 "cells": [
  {
   "cell_type": "markdown",
   "metadata": {},
   "source": [
    "# $\\text{Crawler}$"
   ]
  },
  {
   "cell_type": "code",
   "execution_count": 36,
   "metadata": {},
   "outputs": [],
   "source": [
    "import pandas as pd\n",
    "import os\n",
    "from selenium import webdriver\n",
    "from selenium.webdriver.common.by import By\n",
    "from selenium.webdriver.chrome.options import Options\n",
    "from selenium.webdriver.chrome.service import Service\n",
    "import pandas as pd\n",
    "from tqdm import tqdm"
   ]
  },
  {
   "cell_type": "code",
   "execution_count": null,
   "metadata": {},
   "outputs": [],
   "source": [
    "os.chdir('hrriday/literature/')"
   ]
  },
  {
   "cell_type": "code",
   "execution_count": 37,
   "metadata": {},
   "outputs": [
    {
     "data": {
      "text/plain": [
       "'/mnt/HDFS1/language_nlp/nepali_nlp_team_3/hrriday/literature'"
      ]
     },
     "execution_count": 37,
     "metadata": {},
     "output_type": "execute_result"
    }
   ],
   "source": [
    "os.getcwd()"
   ]
  },
  {
   "cell_type": "markdown",
   "metadata": {},
   "source": [
    "Lit 1: Samakalin Sahitya: https://www.samakalinsahitya.com/"
   ]
  },
  {
   "cell_type": "code",
   "execution_count": 44,
   "metadata": {},
   "outputs": [],
   "source": [
    "# Set up Firefox options for headless mode\n",
    "firefox_options = webdriver.FirefoxOptions()\n",
    "firefox_options.add_argument(\"--headless\") \n",
    " # Disable Images\n",
    "firefox_profile = webdriver.FirefoxProfile()\n",
    "firefox_profile.set_preference(\"permissions.default.image\", 2)\n",
    "\n",
    "# Disable CSS (using custom preferences to block stylesheets)\n",
    "firefox_profile.set_preference(\"permissions.default.stylesheet\", 2)  # Run in headless mode (without GUI)\n",
    "\n",
    "# Initialize the Firefox WebDriver with service and options\n",
    "driver = webdriver.Firefox(executable_path = \"/mnt/HDFS1/language_nlp/nepali_nlp_team_3/geckodriver\", options=firefox_options, firefox_profile=firefox_profile)"
   ]
  },
  {
   "cell_type": "code",
   "execution_count": 12,
   "metadata": {},
   "outputs": [],
   "source": [
    "category_base_url = \"https://samakalinsahitya.com/sahitya/category/\"\n",
    "driver.get(category_base_url + '1')"
   ]
  },
  {
   "cell_type": "code",
   "execution_count": 15,
   "metadata": {},
   "outputs": [],
   "source": [
    "a = driver.find_elements(by = By.CLASS_NAME, value = 'list-unstyled')"
   ]
  },
  {
   "cell_type": "code",
   "execution_count": 16,
   "metadata": {},
   "outputs": [
    {
     "data": {
      "text/plain": [
       "2"
      ]
     },
     "execution_count": 16,
     "metadata": {},
     "output_type": "execute_result"
    }
   ],
   "source": [
    "len(a)"
   ]
  },
  {
   "cell_type": "code",
   "execution_count": 17,
   "metadata": {},
   "outputs": [],
   "source": [
    "b = a[0].find_elements(by = By.TAG_NAME, value = 'a')"
   ]
  },
  {
   "cell_type": "code",
   "execution_count": 18,
   "metadata": {},
   "outputs": [
    {
     "data": {
      "text/plain": [
       "66"
      ]
     },
     "execution_count": 18,
     "metadata": {},
     "output_type": "execute_result"
    }
   ],
   "source": [
    "len(b)"
   ]
  },
  {
   "cell_type": "code",
   "execution_count": 23,
   "metadata": {},
   "outputs": [
    {
     "name": "stdout",
     "output_type": "stream",
     "text": [
      "समय\n",
      "सम्बन्धको निष्कर्ष\n"
     ]
    }
   ],
   "source": [
    "links = []\n",
    "for i in range(0, len(b), 3):\n",
    "    links.append(b[i].get_attribute('href'))\n",
    "    if i == 0 or i == 3:\n",
    "        print(b[i].text)"
   ]
  },
  {
   "cell_type": "code",
   "execution_count": 24,
   "metadata": {},
   "outputs": [],
   "source": [
    "driver.get(links[0])"
   ]
  },
  {
   "cell_type": "code",
   "execution_count": 30,
   "metadata": {},
   "outputs": [],
   "source": [
    "c = driver.find_elements(by = By.CLASS_NAME, value = 'row')"
   ]
  },
  {
   "cell_type": "code",
   "execution_count": 31,
   "metadata": {},
   "outputs": [
    {
     "data": {
      "text/plain": [
       "3"
      ]
     },
     "execution_count": 31,
     "metadata": {},
     "output_type": "execute_result"
    }
   ],
   "source": [
    "len(c)"
   ]
  },
  {
   "cell_type": "code",
   "execution_count": 32,
   "metadata": {},
   "outputs": [],
   "source": [
    "d = c[1].find_elements(by = By.TAG_NAME, value = 'p')"
   ]
  },
  {
   "cell_type": "code",
   "execution_count": 33,
   "metadata": {},
   "outputs": [
    {
     "data": {
      "text/plain": [
       "2"
      ]
     },
     "execution_count": 33,
     "metadata": {},
     "output_type": "execute_result"
    }
   ],
   "source": [
    "len(d)"
   ]
  },
  {
   "cell_type": "code",
   "execution_count": 34,
   "metadata": {},
   "outputs": [
    {
     "name": "stdout",
     "output_type": "stream",
     "text": [
      "धेरै दिनपछि आज गान्तोक आइपुगेको छु म। सचिवालय पुगेर झरेँ। एमजी मार्गमा बसेर रमिता हेरिबस्न मन लाग्यो। रमिता नै भनौँ मानिसहरूको ओहोर-दोहोर अनि व्यस्तता। हामी गाउँ-घरको उकाली ओह्रालीमा भुलिनेहरू, घरिघरि गान्तोक आउ-जाउ गर्नेहरूको मुखबाट मात्र गान्तोक शहरको सुन्दरताका कुराहरू सुन्न पाइन्छ। हेर्न त कहिलेकाहीँ मात्र आइपुगिन्छ। त्यही कहिलेकहींको एउटा दिन आज पनि भएको छ। माथिबाट झर्दा स्टार सिनेमा हल छेउ हुँदैआएको, औधी रमाइलो लाग्यो। साँच्चै रमाइलो भएछ गान्तोक शहर। स्टार सिनेमा हल अगाड़िदेखि टाइटनिक पार्कसम्म नै भुइँमा टायल्स लगाइएको देखेँ। टाइटनिक पार्कमा पनि टायल्स लगाइएको रहेछ, कत्ति रमाइलो। महात्मा गान्धीको मूर्ति वरिपरि पनि राम्रा-राम्रा फूलहरू रहेछन्, माझमा पानीको फोहरामा देशी विदेशी पर्यटक फोटो खिँचाउनमा तल्लीन छन्। चारैतिर मानिसहरू व्यस्त देखिन्छन्। आ-आफ्नो धुनमा कहाँ र किन हो कुन्नि त्यसरी दगुरिरहेका छन्? एकप्रकार आनन्द लाग्दोरहेछ, लागिरहेछ रमिता हेर्न। काशः यस्तै खुशी हाम्रो गाउँ-घरमा पनि भइदिए! हाम्रो गाउँ-घरमा कहाँ यस्तो हुन्छ र! एका बिहानै घाँस काट्नु जानुपर्छ। पानी-झरी भन्नसम्म पाइएन। चिसो ठिही होस् कि टण्टलापुर घाम, घाँस दाउरामा जानैपर्‍यो, बारीको कामम गर्नैपर्‍यो। भोक-तिर्खा केही भन्न पाइँदैन। तर पनि एक प्रकारको रमाइलो हुन्छ गाउँमा। यहाँ त यतिबिध्न मान्छेहरू छन् तर सबै आ-आफ्नै व्यस्ततामा छन् सबै।\n",
      "यतिबेला म यहाँ राखिएको आराम कुर्सीमा बसेर रमिता हेरिबसेको छु। अचानक बिहान घरबाट निस्कँदाको कुरा झल्याँस्स सम्झनामा आयो। घरबाट निस्केको मात्र थिएँ, खोला पारिबाट गाड़ी आउँदै गरेको देखेँ। घर माथिको सड़कमा आइपुग्दा झण्डै दश मिनट त लाग्छ नै। पक्कै पनि गान्तोक गएको हुनुपर्छ, सम्झेर सामान्यभन्दा अलिकति तीव्र गतिमा उक्कालो लागेँ। गान्तोक आउने गाड़ी हाम्रो गाउँबाट त्यति नपाइने हुनाले त्यो गाड़ी भेट्नैपर्ने थियो मैले। सड़क पुग्न पाँच-छ कदम मात्रै थियो, गाड़ीले छोड़िहाल्यो मलाई। लाग्यो, पल्लो गोलाई घुमेर आउँदा त माथिल्लो सड़कमा पक्कै पनि भेट्छु। स्वाँ-स्वाँ तानिरहेेको स्वास रोकेर फेरि अझै उक्कालो लागेँ।\n",
      "पेशाले शिक्षक मान्छे म। अलिअलि हिँड्ने बानी त छँदैछ। तर त्यसरी दौड़िने बानी विद्यार्थी जीवनसितै छोड़िसकेको थिएँ। यसै त विद्यार्थी जीवनमा पनि धेरजसो समय पढ़ाइमा नै बित्थ्यो। सधैँ क्लासमा प्रथम आउने होड़को दौडबाजीमा कहाँ त्यस्तो ध्यान दिन पनि सकियो र! एक असल डाक्टर बन्ने लक्ष्य राखेर कलेजसम्मको अध्ययन पूरा गरेँ। सपना तर कहाँ सबै पूरा हुँदारहेछन् र? म डाक्टर त बन्न सकिन, तर एक असल शिक्षक हुनसकेँ। त्योभन्दा पनि ठूलो कुरा आफै पढ़ेको सकूलमा आफैलाई पढ़ाउने शिक्षकहरूसँगै नानीहरूलाई पढ़ाउन पुगेको छु। म त डाक्टर भइन तर गाउँका नानीहरूलाई डाक्टर बनाउने सपना छ।\n",
      "उक्कालो स्वाँ-स्वाँ स्वास फेर्दै दगुर्दा गाड़ी नभेटे पनि अन्तिम आशा थियो अर्को गोलाइमा घुमेर आउँदा त पक्कै भेट्छु भन्ने। साँच्चै गाड़ी-भन्दा तीस सेकेण्ड जति छिट्टै पुगेँ।\n",
      "“अरे जीवन साथी! कता हिँड्नु भयो?” विनोद रहेछ। गाड़ी रोकेर प्रश्‍न गर्‍यो, मैले पनि चाहेको त्यही थिएँ। हो, त्यही विनोद सानोमा मसितै पढ़ेको त हो। सम्झँदा पनि आङ सिरिङ्ग हुन्छ। साह्रै बद्माश थियो। क्लास क्याप्टन बनाउनु भएको थियो राधिका गुरुमाले। निहुँ केही चाहिँदैनथ्यो उसलाई साथीहरूको पिटाइ गर्न।\n",
      "“बजार हिँडेको। तलैदेखि तपाईंको गाड़ी देखेर दगुरेको झण्डै भेटिएन। फेरि अरू गाड़ी आज पाइन्छ जस्तो छैन। तपाईं गान्तोकतिरै जानुहुँदैछ भने मलाई पनि लिफ्ट दिनुहुन्छ कि भनेर नि...।” मैले एकै स्वासमा भनिदिएँ। मनमा कता-कता अप्ठ्यारो लागिरहेको पनि थियो, तर उपाय केही नै थिएन।\n",
      "“अरे, बस्नोस् न। म गान्तोक नै गएको। पार्टी अफिसमा यूथ मिटिङ छ, त्यसैले जाँदैछु।”\n",
      "म गाड़ीमा पसेँ। यतिबिला पो थाहा पाएँ, अघि उक्कालो दौड़ाइको बेला झण्डै कुलोमा पसिएको थिइयो। देब्रे खुट्टामा पेण्ट त हिलोले निक्कै बिगारेछ। फेरि सड़क बीचको खाल्डोको पानी जुत्ताभित्र पनि पसेछ, थाहै पाइएन। जे होस् गाड़ी पाएकोमा ढुक्कै भएँ कम्सेकम आजको काम त हुनेभयो। बाटो राम्रो नभए पनि स्कर्पियोमा चढ्नु आरामै हुँदोरहेछ। तीन घण्टा नभई मलाई गान्तोक उतारिदियो उसले। यतिबेलासम्म अघिको पेण्टमा लागेको हिलो सुकिसकेछ, रुमाल निकालेर पुछेँ अनि आफ्नो कामतिर लागेँ।\n",
      "ऊ भन्दै थियो, “भरे अलिक ढिलो हुन्छ होला तर पनि जानुभन्दा अगाड़ी एकपल्ट फोन गर्नुहोस् ल। मिलेछ भने सँगै जाऊँ न।”\n",
      "यो एमजी मार्गमा आएर नबसेको साँच्चै धेरै भएछ। पहिला आउँदा त नारायणदाससम्म मात्रै टायल्स लगाइएको थियो, हेर अहिले पल्लो छेउसम्म नै पुर्‍याएको रहेछ। सरकारले सिक्किमलाई स्वीजरल्याण्ड बनाउँछु भन्थ्यो, साँच्चै कति रमाइलो भएछ। हाम्रो गाँउ-घरमा पनि यस्तै रमाइलो भइदिए! हाम्रो स्कूल जाने बाटो त झन् कहिल्यै राम्रो भएन। पोहोर बल्ल-बल्ल बनाएको पनि सबै भलले बगाइदियो। तर गाउँको त के कुरा पनि गर्नु र गान्तोककै पनि त सड़कहरू सबै खाल्डै-खाल्डा भइसकेको रहेछ। यो भल-बाढ़ी त गाउँमा मात्रै पो सम्झेको, शहरमा पनि त्यही त रहेछ।\n",
      "“अरे जीवन साथी, के सोचिरहनु भएको?” के-के सोचिरहेको थिएँ, उही विनोद आइपुगेछ।\n",
      "“जाऊँ कफी पिउन।” मैले पहिलो प्रश्‍नको जवाफ दिएकै थिइन, कफी पिउने प्रस्ताव आयो। अस्वीकार कसरी गर्ने र मैले? सिधै अर्थडक्समा पुगेर कफीसितै पर्क-चाउमिन पनि मगायो उसैले।\n",
      "म मनमनै सोचिरहेथेँ- “आठौँ श्रेणीमा तीनपल्ट फेल भएर पढ्न नपाउँदा हेडसरसित झगड़ा गरेर निस्किएको मान्छेको रवाफ आज यस्तो छ। गाउँ घरमा सबैले इज्जतै गर्छ। गाड़ीमा गाड़ी, बिल्डिङमा बिल्डिङ, पैसा-रुपियाँमा त्यतिकै सम्पन्न।”\n",
      "कफी र चाउमिन सिध्याएर हामी झर्‍यौँ एमजी मार्गमै।\n",
      "“कति काम छ तपाईंको?” सोध्यो उसैले।\n",
      "“छैन, सकियो अघि नै।” छोटो उत्तर दिएँ।\n",
      "“मेरो पनि काम केही छैन! उसो भए जाऊँ होइन?”\n",
      "“जाऊँ।” मैले भने, अनि उसको पछि लागेँ। एमजी मार्ग सिधै तेर्सिएर नारायणदास पुग्यौं अनि ठाडो लाइन ओह्रालो लाग्यौं। डेञ्जोङ सिनेमा छेउबाट अघि बढ़्यौं। यहाँ अहिले पुरानो लालबजार छैन। त्यहाँ ‘कञ्चनजङ्घा शपिङ कम्प्लेक्स’ छ। कञ्चनजङ्घा शपिङ कम्प्लेक्सको भुइँतलामा राखिएको उसको गाड़ीमा हामी दुवै पस्यौँ।\n",
      "यहाँ पनि पार्किङको समस्या भएकोले ट्याक्सी चालक सङ्गठनले केही दिनअघि मात्रै त हो यहाँ निजी वाहन नराखिदिइयोस् भनेर सरकारसित माग राखेको समाचार पत्रमा पढ़ेको थिएँ।\n",
      "यतिबेला म मनमनै सोचिरहेको थिएँ, पढ़ेरै मात्र जीवनमा कहाँ सफल भइँदो रहेछ र! नभए बिहानै त्यसरी किन दौजिड़नुपर्ने थियो। गान्तोक आउँदैपछि यसरी उकालो कुद्नुपर्ने थिएन। खै त मैले पढ़ेको, के भयो र? मनमनै आफैसित प्रश्‍न गरेँ।\n",
      "दुई वर्षपछिको कुरा, म नानीहरूलाई ट्यूशन पढ़ाउनमा व्यस्त थिएँ। पारिबाट एक हुल युवाहरू कराउँदै आइरहेका थिए।\n",
      "“हाम्रो नेता जिन्दाबाद।”\n",
      "“जिन्दाबाद, जिन्दाबाद!”\n",
      "“विनोद तिमी नडराउ”\n",
      "“नडराउ, नडराउ!”\n",
      "“गरीबको नेता आयो है”\n",
      "“आयो है, आयो है!”\n",
      "आज खै कुन चाहिँ पार्टीको टिकट बाँड्ने भन्दै थियो, सायद विनोदले पनि पाएछ। युवाहरूले लगाएको नाराबाट प्रष्टै बुझिँदै थियो।\n",
      "युवा समूह नारा लगाउँदै मेरै घरमा आइपुगेछ। अगाड़ि-अगाड़ि विनोद, पछि पछि समर्थकहरू रहेछन्। म दैलोमा निस्केको मात्र थिएँ, हातमा खदा लिएर “लहै साथी! तपाइँहरूको साथ चाहिएको छ। सहयोग गर्नुपर्छ है।” भन्दै आइपुगेछउही विनोद साथी। हुलबाट एकजना अगाड़ि निस्किएर बोल्न थाल्यो, प्रकाश भाइ रहेछ। भन्दै थियो, “लु है जीवन दाज्यू! यसपालि हामीले राम्रो नेता पाएका छौँ, ढलफल हुनुभएन है। विनोद सरलाई सघाउनुपर्छ है।”\n",
      "हिजो अस्तिसम्म “त्यो विनोद” भन्नेले आज “विनोद सर” भनेको सुन्दा छक्कै परेँ म। तर केही पनि भनिनँ।\n",
      "रात-दिन विनोद सरको घरमा युवाहरूको धुइरो लागेको छ भन्ने खबर सबैले ल्याउँछन्। नयाँ किनेको स्कर्पियोमा गान्तोकबाट चामल, सब्जी, मासु, रम, बियर ओसार्न फुर्सद छैन भन्दै थियो हिजो परको धनवीरले। प्रेमराजले पनि यसपालि त विनोद सरले जित्ने नै रहेछ भन्दै थियो। आफूलाई भने नानीहरूलाई पढ़ाउनबाट फुर्सदै छैन।\n",
      "“जिन्दाबाद-जिन्दाबाद”-को नारा लगाएको झण्डै एक महिना भएजस्तो लाग्छ, चुनाउ पनि सकियो। चुनाउसितै विनोद सरको ढिकुटी पनि रित्तियो। तर यो कुरा विनोद सरबाहेक अरूलाई सायद थाहा छैन। नयाँ स्कर्पियो पनि गाउँको हिलो र खाल्डा-खुल्डी भएको बाटोमा चलाउँदा-चलाउँदा ग्यारेज पुर्‍याएको छ भन्ने सुनेको थिएँ। जग्गा-जमीन पनि सबै चुनाउले नै खाइदियो, दुई वर्षअघि बनाएको घर र बाउ-बाजेले बनाइराखेको पुरानो घरबारी छोड़ेर सबै सकियो भन्दै थिए गाउँकाहरू। तर पनि ढुक्कै छ विनोद सर दुई-चार वर्षमा फर्काइहाल्छु भन्ने सोचेर सायद।\n",
      "चुनाउ परिणाम आयो। विनोद सर बेलुका कतिबेला घर आइपुग्यो भन्ने सायद कसैले थाहा पाएनन् गाउँमा। मैले पनि थाहै पाइनँ। सोधखोज पनि गरिनँ। दिउँसो स्कूल जानु-आउनु, बिहान-बेलुका नानीहरूलाई ट्यूशन पढ़ाउनुको व्यस्तताले कहिल्यै फुर्सद पाइँदैन। पढ़ाउन भ्याउँदिन भन्दासम्म अभिभावकहरू घरैमा आएर “सरले पढ़ाइदिनै पर्छ” भन्छन्। सक्दिन भन्दा पनि “गाउँबाट अब यी केटाकेटीहरू कहाँ जावोस् त” भन्छन्। आफूलाई भने खानेसम्म फुर्सद छैन, तर पनि पढ़ाउँनै पर्‍यो। गाउँकाहरू मात्र नभएर कहाँ-कहाँकाहरू पनि आउँछन्। फेरि सबैको मायै लाग्छ। आफुले पढ़ाएका नानीहरू कहाँ-कहाँ पुगे, के-के भइसके, तर आफू भने जहीँकोे तहीँ। तरै पनि खुशी लाग्छ।\n",
      "झण्डै एक वर्षपछि बाल-दिवसको अवसरमा पारिपट्टिको एउटा निजी पाठशालामा जाँदै थिएँ। भ्याइ नभ्याइ भए पनि जानैपर्ने। हेड सरले आफै घरमा आएर कसै गरी भए पनि आउनुपर्छ भनेका थिए। ऊ पनि मेरै विद्यार्थी।\n",
      "जाँदै थिएँ, बाटोमा उही विनोद सर भेटाएँ, मेरो पुरानो साथी।\n",
      "“अरे! धेरैपछि भेट भइयो, कता हिँड्नु भयो साथी?” प्रश्‍न गर्‍यो उसैले।\n",
      "“पर भिजन एकाडमीसम्म जाँदैछु, तपाईं नि?” जवाफसँगै प्रश्‍न राखेँ।\n",
      "“सानो काम थियोत्यसैले पल्लो गाउँसम्म जाँदैछु। ल त साथी गएँ है” भन्दै अघि बढ़्यो पनि। परऽऽऽ सम्म हेरिपठाएँ, बिचरा निक्कै कमजोर भएछ।\n",
      "त्यसपछि भने धेरै भइसक्यो भेट भएको छैन। खबर पनि केही छैन। सायद कतैतिर व्यस्त होला। आजभोलि हाम्रो गाउँ यस्तै भएको छ, कसैलाई कसैको खबरै हुदैन। सबैलाई आ-आफ्नो व्यस्तता छ। गाउँको कुरा गाउँमै थाहा हुँदैन, बरू शहरतिर पुगिहालियो भने चिनेकाहरूले सुनाउँछन्। सायद समयले सबैलाई ब्यस्त बनाएको छ।\n"
     ]
    }
   ],
   "source": [
    "for k in range(len(d)-1):\n",
    "    print(d[k].text)"
   ]
  },
  {
   "cell_type": "code",
   "execution_count": 21,
   "metadata": {},
   "outputs": [
    {
     "data": {
      "text/plain": [
       "['https://www.samakalinsahitya.com/sahitya/details/8315',\n",
       " 'https://www.samakalinsahitya.com/sahitya/details/8285',\n",
       " 'https://www.samakalinsahitya.com/sahitya/details/8258',\n",
       " 'https://www.samakalinsahitya.com/sahitya/details/8239',\n",
       " 'https://www.samakalinsahitya.com/sahitya/details/8235',\n",
       " 'https://www.samakalinsahitya.com/sahitya/details/8234',\n",
       " 'https://www.samakalinsahitya.com/sahitya/details/8229',\n",
       " 'https://www.samakalinsahitya.com/sahitya/details/8218',\n",
       " 'https://www.samakalinsahitya.com/sahitya/details/8204',\n",
       " 'https://www.samakalinsahitya.com/sahitya/details/8198',\n",
       " 'https://www.samakalinsahitya.com/sahitya/details/8195',\n",
       " 'https://www.samakalinsahitya.com/sahitya/details/8194',\n",
       " 'https://www.samakalinsahitya.com/sahitya/details/8177',\n",
       " 'https://www.samakalinsahitya.com/sahitya/details/8173',\n",
       " 'https://www.samakalinsahitya.com/sahitya/details/8165',\n",
       " 'https://www.samakalinsahitya.com/sahitya/details/8160',\n",
       " 'https://www.samakalinsahitya.com/sahitya/details/8158',\n",
       " 'https://www.samakalinsahitya.com/sahitya/details/8149',\n",
       " 'https://www.samakalinsahitya.com/sahitya/details/8146',\n",
       " 'https://www.samakalinsahitya.com/sahitya/details/8138',\n",
       " 'https://www.samakalinsahitya.com/sahitya/details/8128',\n",
       " 'https://www.samakalinsahitya.com/sahitya/details/8099']"
      ]
     },
     "execution_count": 21,
     "metadata": {},
     "output_type": "execute_result"
    }
   ],
   "source": [
    "links"
   ]
  },
  {
   "cell_type": "code",
   "execution_count": 45,
   "metadata": {},
   "outputs": [
    {
     "name": "stdout",
     "output_type": "stream",
     "text": [
      "1\n"
     ]
    },
    {
     "name": "stderr",
     "output_type": "stream",
     "text": [
      "100%|██████████| 34/34 [00:52<00:00,  1.53s/it]\n"
     ]
    },
    {
     "name": "stdout",
     "output_type": "stream",
     "text": [
      "2\n"
     ]
    },
    {
     "name": "stderr",
     "output_type": "stream",
     "text": [
      "100%|██████████| 23/23 [00:31<00:00,  1.38s/it]\n"
     ]
    },
    {
     "name": "stdout",
     "output_type": "stream",
     "text": [
      "3\n"
     ]
    },
    {
     "name": "stderr",
     "output_type": "stream",
     "text": [
      "100%|██████████| 83/83 [01:58<00:00,  1.43s/it]\n"
     ]
    },
    {
     "name": "stdout",
     "output_type": "stream",
     "text": [
      "4\n"
     ]
    },
    {
     "name": "stderr",
     "output_type": "stream",
     "text": [
      "100%|██████████| 23/23 [00:32<00:00,  1.40s/it]\n"
     ]
    },
    {
     "name": "stdout",
     "output_type": "stream",
     "text": [
      "5\n"
     ]
    },
    {
     "name": "stderr",
     "output_type": "stream",
     "text": [
      "100%|██████████| 51/51 [01:10<00:00,  1.37s/it]\n"
     ]
    },
    {
     "name": "stdout",
     "output_type": "stream",
     "text": [
      "8\n"
     ]
    },
    {
     "name": "stderr",
     "output_type": "stream",
     "text": [
      "100%|██████████| 9/9 [00:12<00:00,  1.40s/it]\n"
     ]
    },
    {
     "name": "stdout",
     "output_type": "stream",
     "text": [
      "10\n"
     ]
    },
    {
     "name": "stderr",
     "output_type": "stream",
     "text": [
      "100%|██████████| 13/13 [00:17<00:00,  1.37s/it]\n"
     ]
    },
    {
     "name": "stdout",
     "output_type": "stream",
     "text": [
      "11\n"
     ]
    },
    {
     "name": "stderr",
     "output_type": "stream",
     "text": [
      "100%|██████████| 14/14 [00:19<00:00,  1.37s/it]\n"
     ]
    },
    {
     "name": "stdout",
     "output_type": "stream",
     "text": [
      "12\n"
     ]
    },
    {
     "name": "stderr",
     "output_type": "stream",
     "text": [
      "100%|██████████| 2/2 [00:02<00:00,  1.02s/it]\n"
     ]
    },
    {
     "name": "stdout",
     "output_type": "stream",
     "text": [
      "13\n"
     ]
    },
    {
     "name": "stderr",
     "output_type": "stream",
     "text": [
      "100%|██████████| 45/45 [01:03<00:00,  1.41s/it]\n"
     ]
    },
    {
     "name": "stdout",
     "output_type": "stream",
     "text": [
      "16\n"
     ]
    },
    {
     "name": "stderr",
     "output_type": "stream",
     "text": [
      "100%|██████████| 11/11 [00:14<00:00,  1.34s/it]\n"
     ]
    },
    {
     "name": "stdout",
     "output_type": "stream",
     "text": [
      "17\n"
     ]
    },
    {
     "name": "stderr",
     "output_type": "stream",
     "text": [
      "100%|██████████| 4/4 [00:04<00:00,  1.13s/it]\n"
     ]
    },
    {
     "name": "stdout",
     "output_type": "stream",
     "text": [
      "18\n"
     ]
    },
    {
     "name": "stderr",
     "output_type": "stream",
     "text": [
      "100%|██████████| 5/5 [00:05<00:00,  1.17s/it]\n"
     ]
    },
    {
     "name": "stdout",
     "output_type": "stream",
     "text": [
      "20\n"
     ]
    },
    {
     "name": "stderr",
     "output_type": "stream",
     "text": [
      "100%|██████████| 5/5 [00:06<00:00,  1.25s/it]\n"
     ]
    },
    {
     "name": "stdout",
     "output_type": "stream",
     "text": [
      "24\n"
     ]
    },
    {
     "name": "stderr",
     "output_type": "stream",
     "text": [
      "100%|██████████| 8/8 [00:10<00:00,  1.35s/it]\n"
     ]
    }
   ],
   "source": [
    "categories = {1: 726, 2: 484, 3: 1804, 4:484, 5: 1100, 8: 176, 10: 264, 11: 286, 12: 22, 13: 968, 16: 220, 17: 66, 18: 88, 20: 88, 24: 154}\n",
    "category_base_url = \"https://samakalinsahitya.com/sahitya/category/\"\n",
    "errors = []\n",
    "links = []\n",
    "titles = []\n",
    "# if not os.path.exists('content'):\n",
    "#     os.mkdir('content')\n",
    "for category, num_pages in categories.items():\n",
    "    print(category)\n",
    "    # if not os.path.exists('content' + '/' + str(category)):\n",
    "    #     os.mkdir('content' + '/' + str(category))\n",
    "        # content_path? = 'content' + '/' + str(category)\n",
    "    for i in tqdm(range(0, num_pages+1, 22)):\n",
    "        try: \n",
    "            if i == 0:\n",
    "                driver.get(category_base_url + str(category))\n",
    "            else:\n",
    "                driver.get(category_base_url + str(category) + \"/\" + str(i))\n",
    "            lit_classes = driver.find_elements(by = By.CLASS_NAME, value = \"list-unstyled\")\n",
    "            a_tags = lit_classes[0].find_elements(by = By.TAG_NAME, value = \"a\")\n",
    "            for j in range(0, len(a_tags), 3):\n",
    "                links.append(a_tags[j].get_attribute(\"href\"))\n",
    "                titles.append(a_tags[j].text)\n",
    "                # article_classes = driver.find_elements(by = By.CLASS_NAME, value = \"row\")\n",
    "                # paragraphs = article_classes[1].find_elements(by = By.TAG_NAME, value = \"p\")\n",
    "                # if not os.path.exists(content_path + '/' + str(i+j//3) + '.txt'):\n",
    "                #     with open(content_path + '/' + str(i+j//3) + '.txt', 'w') as f:\n",
    "                #         f.write(a_tags[j].text + '\\n\\n')\n",
    "                #         for k in range(len(paragraphs)-1):\n",
    "                #             f.write(paragraphs[k].text + '\\n')\n",
    "                #     f.close()\n",
    "        except:\n",
    "            print(\"Error: Page\", i, \"of\", category)\n",
    "            errors.append((category, i))\n",
    "        if i % 50 == 0:\n",
    "            if not os.path.exists(\"samakalin_sahitya.csv\"):\n",
    "                df = pd.DataFrame(list(zip(titles, links)), columns =['Title', 'Link'])\n",
    "                df.to_csv(\"samakalin_sahitya.csv\", index=False)\n",
    "            else:\n",
    "                df = pd.read_csv(\"samakalin_sahitya.csv\")\n",
    "                df = pd.concat([df, pd.DataFrame(list(zip(titles, links)), columns =['Title', 'Link'])], axis=0)\n",
    "                df.to_csv(\"samakalin_sahitya.csv\", index=False)\n",
    "            links = []\n",
    "            titles = []"
   ]
  },
  {
   "cell_type": "code",
   "execution_count": 46,
   "metadata": {},
   "outputs": [],
   "source": [
    "df = pd.read_csv(\"samakalin_sahitya.csv\")\n",
    "df = pd.concat([df, pd.DataFrame(list(zip(titles, links)), columns =['Title', 'Link'])], axis=0)\n",
    "df.to_csv(\"samakalin_sahitya.csv\", index=False)"
   ]
  },
  {
   "cell_type": "code",
   "execution_count": 47,
   "metadata": {},
   "outputs": [],
   "source": [
    "driver.close()"
   ]
  }
 ],
 "metadata": {
  "kernelspec": {
   "display_name": "nepali_venv",
   "language": "python",
   "name": "python3"
  },
  "language_info": {
   "codemirror_mode": {
    "name": "ipython",
    "version": 3
   },
   "file_extension": ".py",
   "mimetype": "text/x-python",
   "name": "python",
   "nbconvert_exporter": "python",
   "pygments_lexer": "ipython3",
   "version": "3.6.8"
  }
 },
 "nbformat": 4,
 "nbformat_minor": 2
}
