{
 "cells": [
  {
   "cell_type": "markdown",
   "metadata": {},
   "source": [
    "# $\\text{Crawler1}$"
   ]
  },
  {
   "cell_type": "code",
   "execution_count": 1,
   "metadata": {},
   "outputs": [],
   "source": [
    "import pandas as pd\n",
    "import os\n",
    "from selenium import webdriver\n",
    "from selenium.webdriver.common.by import By\n",
    "from selenium.webdriver.chrome.options import Options\n",
    "from selenium.webdriver.chrome.service import Service\n",
    "import pandas as pd\n",
    "from tqdm import tqdm"
   ]
  },
  {
   "cell_type": "code",
   "execution_count": 2,
   "metadata": {},
   "outputs": [],
   "source": [
    "os.chdir('hrriday/news/')"
   ]
  },
  {
   "cell_type": "code",
   "execution_count": 3,
   "metadata": {},
   "outputs": [
    {
     "data": {
      "text/plain": [
       "'/mnt/HDFS1/language_nlp/nepali_nlp_team_3/hrriday/news'"
      ]
     },
     "execution_count": 3,
     "metadata": {},
     "output_type": "execute_result"
    }
   ],
   "source": [
    "os.getcwd()"
   ]
  },
  {
   "cell_type": "markdown",
   "metadata": {},
   "source": [
    "News 3: Sahitya Post: https://sahityapost.com/"
   ]
  },
  {
   "cell_type": "code",
   "execution_count": 4,
   "metadata": {},
   "outputs": [],
   "source": [
    "# Set up Firefox options for headless mode\n",
    "firefox_options = webdriver.FirefoxOptions()\n",
    "firefox_options.add_argument(\"--headless\") \n",
    " # Disable Images\n",
    "firefox_profile = webdriver.FirefoxProfile()\n",
    "firefox_profile.set_preference(\"permissions.default.image\", 2)\n",
    "\n",
    "# Disable CSS (using custom preferences to block stylesheets)\n",
    "firefox_profile.set_preference(\"permissions.default.stylesheet\", 2)  # Run in headless mode (without GUI)\n",
    "\n",
    "# Initialize the Firefox WebDriver with service and options\n",
    "driver = webdriver.Firefox(executable_path = \"/mnt/HDFS1/language_nlp/nepali_nlp_team_3/geckodriver\", options=firefox_options, firefox_profile=firefox_profile)"
   ]
  },
  {
   "cell_type": "code",
   "execution_count": 21,
   "metadata": {},
   "outputs": [
    {
     "name": "stdout",
     "output_type": "stream",
     "text": [
      "aakhyan\n"
     ]
    },
    {
     "name": "stderr",
     "output_type": "stream",
     "text": [
      "100%|██████████| 219/219 [24:41<00:00,  6.77s/it]\n"
     ]
    },
    {
     "name": "stdout",
     "output_type": "stream",
     "text": [
      "gair-aakhyan\n"
     ]
    },
    {
     "name": "stderr",
     "output_type": "stream",
     "text": [
      "100%|██████████| 346/346 [33:20<00:00,  5.78s/it]\n"
     ]
    },
    {
     "name": "stdout",
     "output_type": "stream",
     "text": [
      "kabyapost\n"
     ]
    },
    {
     "name": "stderr",
     "output_type": "stream",
     "text": [
      "100%|██████████| 570/570 [46:03<00:00,  4.85s/it] \n"
     ]
    },
    {
     "name": "stdout",
     "output_type": "stream",
     "text": [
      "kala\n"
     ]
    },
    {
     "name": "stderr",
     "output_type": "stream",
     "text": [
      "100%|██████████| 55/55 [04:21<00:00,  4.75s/it]\n"
     ]
    },
    {
     "name": "stdout",
     "output_type": "stream",
     "text": [
      "new-gen\n"
     ]
    },
    {
     "name": "stderr",
     "output_type": "stream",
     "text": [
      "100%|██████████| 76/76 [05:52<00:00,  4.63s/it]\n"
     ]
    },
    {
     "name": "stdout",
     "output_type": "stream",
     "text": [
      "prabash\n"
     ]
    },
    {
     "name": "stderr",
     "output_type": "stream",
     "text": [
      "100%|██████████| 160/160 [12:31<00:00,  4.70s/it]\n"
     ]
    },
    {
     "name": "stdout",
     "output_type": "stream",
     "text": [
      "bishwo-gatibidhi\n"
     ]
    },
    {
     "name": "stderr",
     "output_type": "stream",
     "text": [
      "100%|██████████| 125/125 [09:48<00:00,  4.71s/it]\n"
     ]
    },
    {
     "name": "stdout",
     "output_type": "stream",
     "text": [
      "environment-literature\n"
     ]
    },
    {
     "name": "stderr",
     "output_type": "stream",
     "text": [
      "100%|██████████| 19/19 [01:31<00:00,  4.80s/it]\n"
     ]
    }
   ],
   "source": [
    "categories = {'aakhyan':220, 'gair-aakhyan':347, 'kabyapost':571, 'kala':56, 'new-gen':77, 'prabash':161, 'bishwo-gatibidhi':126, 'environment-literature':20} # literature-news':485\n",
    "category_base_url = \"https://sahityapost.com/category/\"\n",
    "links = []\n",
    "titles = []\n",
    "errors = []\n",
    "for category, num_pages in categories.items():\n",
    "    print(category)\n",
    "    for i in tqdm(range(1, num_pages)):\n",
    "        try: \n",
    "            if i == 1:\n",
    "                driver.get(category_base_url + category)\n",
    "            else:\n",
    "                driver.get(category_base_url + category + \"/page/\" + str(i))\n",
    "            story_classes = driver.find_elements(by = By.CLASS_NAME, value = \"post-grid.text-center\")[:12]\n",
    "            for j in range(len(story_classes)):\n",
    "                ele = story_classes[j].find_elements(by = By.TAG_NAME, value = \"a\")[1]\n",
    "                links.append(ele.get_attribute(\"href\"))\n",
    "                titles.append(ele.text)\n",
    "        except KeyboardInterrupt:\n",
    "            print(\"Error: Page\", i, \"of\", category)\n",
    "            errors.append((category, i))"
   ]
  },
  {
   "cell_type": "code",
   "execution_count": null,
   "metadata": {},
   "outputs": [],
   "source": [
    "len(links), len(titles)"
   ]
  },
  {
   "cell_type": "code",
   "execution_count": 23,
   "metadata": {},
   "outputs": [],
   "source": [
    "df = pd.DataFrame(list(zip(titles, links)), columns =['Title', 'Link'])"
   ]
  },
  {
   "cell_type": "code",
   "execution_count": 24,
   "metadata": {},
   "outputs": [],
   "source": [
    "df.to_csv(\"sahitya_post.csv\", index=False)"
   ]
  },
  {
   "cell_type": "code",
   "execution_count": 30,
   "metadata": {},
   "outputs": [],
   "source": [
    "driver.close()"
   ]
  },
  {
   "cell_type": "markdown",
   "metadata": {},
   "source": [
    "---\n",
    "---"
   ]
  },
  {
   "cell_type": "markdown",
   "metadata": {},
   "source": [
    "News 4: Sagarmatha TV: https://sagarmatha.tv/"
   ]
  },
  {
   "cell_type": "code",
   "execution_count": 10,
   "metadata": {},
   "outputs": [],
   "source": [
    "# Set up Firefox options for headless mode\n",
    "firefox_options = webdriver.FirefoxOptions()\n",
    "firefox_options.add_argument(\"--headless\") \n",
    " # Disable Images\n",
    "firefox_profile = webdriver.FirefoxProfile()\n",
    "firefox_profile.set_preference(\"permissions.default.image\", 2)\n",
    "\n",
    "# Disable CSS (using custom preferences to block stylesheets)\n",
    "firefox_profile.set_preference(\"permissions.default.stylesheet\", 2)  # Run in headless mode (without GUI)\n",
    "\n",
    "# Initialize the Firefox WebDriver with service and options\n",
    "driver = webdriver.Firefox(executable_path = \"/mnt/HDFS1/language_nlp/nepali_nlp_team_3/geckodriver\", options=firefox_options, firefox_profile=firefox_profile)"
   ]
  },
  {
   "cell_type": "code",
   "execution_count": null,
   "metadata": {},
   "outputs": [],
   "source": [
    "categories = {'news':1681, 'देश':1075, 'रिपोर्ट':2, 'आर्थिक':131, 'मनोरञ्जन':15, 'सूचना-प्रबिधि':5, 'अन्तरवार्ता':1, 'खेलकुद':105, 'दुर्घटना':1, 'यति-एयर-दुर्घटना':1,'पत्रपत्रिका':5, 'साहित्य':1, 'प्रचण्ड':1,'यति-एयरलाइन्स':1}\n",
    "category_base_url = \"https://sagarmatha.tv/category/\"\n",
    "trending_base_url = \"https://sagarmatha.tv/trend/\"\n",
    "links = []\n",
    "titles = []\n",
    "errors = [] \n",
    "for category, num_pages in categories.items():\n",
    "    print(category)\n",
    "    for i in tqdm(range(1, num_pages+1)):\n",
    "        try: \n",
    "            if i == 1:\n",
    "                if category in ['news', 'देश', 'रिपोर्ट', 'आर्थिक', 'मनोरञ्जन', 'सूचना-प्रबिधि', 'अन्तरवार्ता', 'खेलकुद']:\n",
    "                    driver.get(category_base_url + category)\n",
    "                else:\n",
    "                    driver.get(trending_base_url + category)\n",
    "            else:\n",
    "                if category in ['news', 'देश', 'रिपोर्ट', 'आर्थिक', 'मनोरञ्जन', 'सूचना-प्रबिधि', 'अन्तरवार्ता', 'खेलकुद']:\n",
    "                    driver.get(category_base_url + category + \"/page/\" + str(i))\n",
    "                else:\n",
    "                    driver.get(trending_base_url + category + \"/page/\" + str(i))\n",
    "            story_classes = driver.find_elements(by = By.CLASS_NAME, value = \"no-list-grid-view-info\")\n",
    "            for j in range(len(story_classes)):\n",
    "                ele = story_classes[j].find_element(by = By.TAG_NAME, value = \"a\")\n",
    "                links.append(ele.get_attribute(\"href\"))\n",
    "                titles.append(ele.text)\n",
    "        except:\n",
    "            print(\"Error: Page\", i, \"of\", category)\n",
    "            errors.append((category, i))"
   ]
  },
  {
   "cell_type": "code",
   "execution_count": null,
   "metadata": {},
   "outputs": [],
   "source": [
    "len(titles), len(links)"
   ]
  },
  {
   "cell_type": "code",
   "execution_count": 20,
   "metadata": {},
   "outputs": [],
   "source": [
    "df = pd.DataFrame(list(zip(titles, links)), columns =['Title', 'Link'])"
   ]
  },
  {
   "cell_type": "code",
   "execution_count": 21,
   "metadata": {},
   "outputs": [],
   "source": [
    "df.to_csv(\"sagarmatha_tv.csv\", index=False)"
   ]
  },
  {
   "cell_type": "code",
   "execution_count": 22,
   "metadata": {},
   "outputs": [],
   "source": [
    "driver.close()"
   ]
  },
  {
   "cell_type": "markdown",
   "metadata": {},
   "source": [
    "---\n",
    "---"
   ]
  }
 ],
 "metadata": {
  "kernelspec": {
   "display_name": "nepali_venv",
   "language": "python",
   "name": "python3"
  },
  "language_info": {
   "codemirror_mode": {
    "name": "ipython",
    "version": 3
   },
   "file_extension": ".py",
   "mimetype": "text/x-python",
   "name": "python",
   "nbconvert_exporter": "python",
   "pygments_lexer": "ipython3",
   "version": "3.6.8"
  }
 },
 "nbformat": 4,
 "nbformat_minor": 2
}
