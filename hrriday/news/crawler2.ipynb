{
 "cells": [
  {
   "cell_type": "markdown",
   "metadata": {},
   "source": [
    "# $\\text{Crawler2}$"
   ]
  },
  {
   "cell_type": "code",
   "execution_count": 1,
   "metadata": {},
   "outputs": [],
   "source": [
    "import pandas as pd\n",
    "import os\n",
    "from selenium import webdriver\n",
    "from selenium.webdriver.common.by import By\n",
    "from selenium.webdriver.chrome.options import Options\n",
    "from selenium.webdriver.chrome.service import Service\n",
    "import pandas as pd\n",
    "from tqdm import tqdm"
   ]
  },
  {
   "cell_type": "code",
   "execution_count": 2,
   "metadata": {},
   "outputs": [],
   "source": [
    "os.chdir('hrriday/news/')"
   ]
  },
  {
   "cell_type": "code",
   "execution_count": 3,
   "metadata": {},
   "outputs": [
    {
     "data": {
      "text/plain": [
       "'/mnt/HDFS1/language_nlp/nepali_nlp_team_3/hrriday/news'"
      ]
     },
     "execution_count": 3,
     "metadata": {},
     "output_type": "execute_result"
    }
   ],
   "source": [
    "os.getcwd()"
   ]
  },
  {
   "cell_type": "markdown",
   "metadata": {},
   "source": [
    "News 2: Farakdhar: https://farakdhar.com/"
   ]
  },
  {
   "cell_type": "code",
   "execution_count": 4,
   "metadata": {},
   "outputs": [],
   "source": [
    "# Set up Firefox options for headless mode\n",
    "firefox_options = webdriver.FirefoxOptions()\n",
    "firefox_options.add_argument(\"--headless\") \n",
    " # Disable Images\n",
    "firefox_profile = webdriver.FirefoxProfile()\n",
    "firefox_profile.set_preference(\"permissions.default.image\", 2)\n",
    "\n",
    "# Disable CSS (using custom preferences to block stylesheets)\n",
    "firefox_profile.set_preference(\"permissions.default.stylesheet\", 2)  # Run in headless mode (without GUI)\n",
    "\n",
    "# Initialize the Firefox WebDriver with service and options\n",
    "driver = webdriver.Firefox(executable_path = \"/mnt/HDFS1/language_nlp/nepali_nlp_team_3/geckodriver\", options=firefox_options, firefox_profile=firefox_profile)"
   ]
  },
  {
   "cell_type": "code",
   "execution_count": 5,
   "metadata": {},
   "outputs": [
    {
     "name": "stdout",
     "output_type": "stream",
     "text": [
      "main-news\n"
     ]
    },
    {
     "name": "stderr",
     "output_type": "stream",
     "text": [
      " 15%|█▌        | 364/2349 [1:06:14<54:47:48, 99.38s/it]"
     ]
    },
    {
     "name": "stdout",
     "output_type": "stream",
     "text": [
      "Error: Page 364 of main-news\n"
     ]
    },
    {
     "name": "stderr",
     "output_type": "stream",
     "text": [
      " 40%|████      | 950/2349 [3:02:41<37:41:10, 96.98s/it]"
     ]
    },
    {
     "name": "stdout",
     "output_type": "stream",
     "text": [
      "Error: Page 950 of main-news\n"
     ]
    },
    {
     "name": "stderr",
     "output_type": "stream",
     "text": [
      " 82%|████████▏ | 1931/2349 [7:41:54<12:54:38, 111.19s/it]"
     ]
    },
    {
     "name": "stdout",
     "output_type": "stream",
     "text": [
      "Error: Page 1931 of main-news\n"
     ]
    },
    {
     "name": "stderr",
     "output_type": "stream",
     "text": [
      " 88%|████████▊ | 2064/2349 [8:48:08<8:34:21, 108.29s/it] "
     ]
    },
    {
     "name": "stdout",
     "output_type": "stream",
     "text": [
      "Error: Page 2064 of main-news\n"
     ]
    },
    {
     "name": "stderr",
     "output_type": "stream",
     "text": [
      " 89%|████████▉ | 2099/2349 [9:09:03<7:46:10, 111.88s/it]"
     ]
    },
    {
     "name": "stdout",
     "output_type": "stream",
     "text": [
      "Error: Page 2099 of main-news\n"
     ]
    },
    {
     "name": "stderr",
     "output_type": "stream",
     "text": [
      " 92%|█████████▏| 2151/2349 [9:39:59<6:05:51, 110.87s/it]"
     ]
    },
    {
     "name": "stdout",
     "output_type": "stream",
     "text": [
      "Error: Page 2151 of main-news\n"
     ]
    },
    {
     "name": "stderr",
     "output_type": "stream",
     "text": [
      " 99%|█████████▉| 2326/2349 [11:15:39<43:40, 113.95s/it] "
     ]
    },
    {
     "name": "stdout",
     "output_type": "stream",
     "text": [
      "Error: Page 2326 of main-news\n"
     ]
    },
    {
     "name": "stderr",
     "output_type": "stream",
     "text": [
      " 99%|█████████▉| 2327/2349 [11:20:39<1:02:14, 169.77s/it]"
     ]
    },
    {
     "name": "stdout",
     "output_type": "stream",
     "text": [
      "Error: Page 2327 of main-news\n"
     ]
    },
    {
     "name": "stderr",
     "output_type": "stream",
     "text": [
      "100%|██████████| 2349/2349 [11:32:16<00:00, 17.68s/it]   \n"
     ]
    },
    {
     "name": "stdout",
     "output_type": "stream",
     "text": [
      "politics\n"
     ]
    },
    {
     "name": "stderr",
     "output_type": "stream",
     "text": [
      " 28%|██▊       | 762/2750 [5:59:25<58:24:54, 105.78s/it]"
     ]
    },
    {
     "name": "stdout",
     "output_type": "stream",
     "text": [
      "Error: Page 762 of politics\n"
     ]
    },
    {
     "name": "stderr",
     "output_type": "stream",
     "text": [
      " 28%|██▊       | 783/2750 [6:16:57<68:49:51, 125.97s/it]"
     ]
    },
    {
     "name": "stdout",
     "output_type": "stream",
     "text": [
      "Error: Page 783 of politics\n"
     ]
    },
    {
     "name": "stderr",
     "output_type": "stream",
     "text": [
      " 30%|███       | 835/2750 [6:47:46<59:44:24, 112.31s/it]"
     ]
    },
    {
     "name": "stdout",
     "output_type": "stream",
     "text": [
      "Error: Page 835 of politics\n"
     ]
    }
   ],
   "source": [
    "categories = {'main-news':2349,'politics':2750,'society':2044,'economics':650, 'education':128, 'sports':856, 'opinion':46, 'politics-world':636, 'province':669, 'province-1':85, 'province-2':138,'bagmati-province':98, 'gandaki-province':69, 'lumbini-province':53,'karnali-province':93,'sudurpaschim-province':141, 'lifestyle-health':197, 'arts':382, 'science-technology':49, 'farak-series':6}\n",
    "category_base_url = \"https://farakdhar.com/category/\"\n",
    "links = []\n",
    "titles = []\n",
    "errors = []\n",
    "for category, num_pages in categories.items():\n",
    "    print(category)\n",
    "    for i in tqdm(range(1, num_pages+1)):\n",
    "        try: \n",
    "            if i == 1:\n",
    "                driver.get(category_base_url + category)\n",
    "            else:\n",
    "                driver.get(category_base_url + category + \"/?page=\" + str(i))\n",
    "            medium = driver.find_elements(By.CLASS_NAME, value = 'news-title.title-medium')\n",
    "            average = driver.find_elements(By.CLASS_NAME, value = 'news-title.title-average')\n",
    "            for j in range(len(medium)):\n",
    "                ele = medium[j].find_element(by = By.TAG_NAME, value = \"a\")\n",
    "                links.append(ele.get_attribute(\"href\"))\n",
    "                titles.append(ele.text)\n",
    "            for j in range(len(average)):\n",
    "                ele = average[j].find_element(by = By.TAG_NAME, value = \"a\")\n",
    "                links.append(ele.get_attribute(\"href\"))\n",
    "                titles.append(ele.text)\n",
    "        except:\n",
    "            print(\"Error: Page\", i, \"of\", category)\n",
    "            errors.append((category, i))\n",
    "        if i % 50 == 0:\n",
    "            if not os.path.exists(\"farakdhar.csv\"):\n",
    "                df = pd.DataFrame(list(zip(titles, links)), columns =['Title', 'Link'])\n",
    "                df.to_csv(\"farakdhar.csv\", index=False)\n",
    "            else:\n",
    "                df = pd.read_csv(\"farakdhar.csv\")\n",
    "                df = pd.concat([df, pd.DataFrame(list(zip(titles, links)), columns =['Title', 'Link'])], axis=0)\n",
    "                df.to_csv(\"farakdhar.csv\", index=False)\n",
    "            links = []\n",
    "            titles = []"
   ]
  },
  {
   "cell_type": "code",
   "execution_count": 51,
   "metadata": {},
   "outputs": [
    {
     "data": {
      "text/plain": [
       "(304, 304)"
      ]
     },
     "execution_count": 51,
     "metadata": {},
     "output_type": "execute_result"
    }
   ],
   "source": [
    "len(titles), len(links)"
   ]
  },
  {
   "cell_type": "code",
   "execution_count": 52,
   "metadata": {},
   "outputs": [],
   "source": [
    "df = pd.DataFrame(list(zip(titles, links)), columns =['Title', 'Link'])"
   ]
  },
  {
   "cell_type": "code",
   "execution_count": 53,
   "metadata": {},
   "outputs": [],
   "source": [
    "df.to_csv(\"farakdhar.csv\", index=False)"
   ]
  },
  {
   "cell_type": "code",
   "execution_count": 10,
   "metadata": {},
   "outputs": [],
   "source": [
    "driver.close()"
   ]
  },
  {
   "cell_type": "markdown",
   "metadata": {},
   "source": [
    "---\n",
    "---"
   ]
  }
 ],
 "metadata": {
  "kernelspec": {
   "display_name": "nepali_venv",
   "language": "python",
   "name": "python3"
  },
  "language_info": {
   "codemirror_mode": {
    "name": "ipython",
    "version": 3
   },
   "file_extension": ".py",
   "mimetype": "text/x-python",
   "name": "python",
   "nbconvert_exporter": "python",
   "pygments_lexer": "ipython3",
   "version": "3.6.8"
  }
 },
 "nbformat": 4,
 "nbformat_minor": 2
}
