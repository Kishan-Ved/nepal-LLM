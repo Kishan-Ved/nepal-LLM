{
 "cells": [
  {
   "cell_type": "markdown",
   "metadata": {},
   "source": [
    "# $\\text{Extractor2}$"
   ]
  },
  {
   "cell_type": "code",
   "execution_count": 1,
   "metadata": {},
   "outputs": [],
   "source": [
    "import pandas as pd\n",
    "import os\n",
    "from selenium import webdriver\n",
    "from selenium.webdriver.common.by import By\n",
    "from selenium.webdriver.chrome.options import Options\n",
    "from selenium.webdriver.chrome.service import Service\n",
    "import pandas as pd\n",
    "from tqdm import tqdm"
   ]
  },
  {
   "cell_type": "code",
   "execution_count": 2,
   "metadata": {},
   "outputs": [],
   "source": [
    "os.chdir('hrriday/news/')"
   ]
  },
  {
   "cell_type": "code",
   "execution_count": 3,
   "metadata": {},
   "outputs": [
    {
     "data": {
      "text/plain": [
       "'/mnt/HDFS1/language_nlp/nepali_nlp_team_3/hrriday/news'"
      ]
     },
     "execution_count": 3,
     "metadata": {},
     "output_type": "execute_result"
    }
   ],
   "source": [
    "os.getcwd()"
   ]
  },
  {
   "cell_type": "markdown",
   "metadata": {},
   "source": [
    "News 3: Sahitya Post: https://sahityapost.com/"
   ]
  },
  {
   "cell_type": "code",
   "execution_count": 4,
   "metadata": {},
   "outputs": [],
   "source": [
    "# Set up Firefox options for headless mode\n",
    "firefox_options = webdriver.FirefoxOptions()\n",
    "firefox_options.add_argument(\"--headless\") \n",
    " # Disable Images\n",
    "firefox_profile = webdriver.FirefoxProfile()\n",
    "firefox_profile.set_preference(\"permissions.default.image\", 2)\n",
    "\n",
    "# Disable CSS (using custom preferences to block stylesheets)\n",
    "firefox_profile.set_preference(\"permissions.default.stylesheet\", 2)  # Run in headless mode (without GUI)\n",
    "\n",
    "# Initialize the Firefox WebDriver with service and options\n",
    "driver = webdriver.Firefox(executable_path = \"/mnt/HDFS1/language_nlp/nepali_nlp_team_3/geckodriver\", options=firefox_options, firefox_profile=firefox_profile)"
   ]
  },
  {
   "cell_type": "code",
   "execution_count": 5,
   "metadata": {},
   "outputs": [],
   "source": [
    "df = pd.read_csv('sahitya_post.csv')"
   ]
  },
  {
   "cell_type": "code",
   "execution_count": 6,
   "metadata": {},
   "outputs": [],
   "source": [
    "if not os.path.exists('content'):\n",
    "    os.makedirs('content')\n",
    "if not os.path.exists('content/sahitya_post'):\n",
    "    os.makedirs('content/sahitya_post')"
   ]
  },
  {
   "cell_type": "code",
   "execution_count": 7,
   "metadata": {},
   "outputs": [
    {
     "name": "stderr",
     "output_type": "stream",
     "text": [
      "100%|██████████| 11400/11400 [19:10:48<00:00,  6.06s/it]  \n"
     ]
    }
   ],
   "source": [
    "links = df[\"Link\"]\n",
    "titles = df[\"Title\"]\n",
    "content_path = \"content/sahitya_post/\"\n",
    "errors = []\n",
    "for i in tqdm(range(13253,len(links))):\n",
    "    try:\n",
    "        driver.get(links.iloc[i])\n",
    "        main_class = driver.find_elements(by = By.CLASS_NAME, value = \"post-body\")\n",
    "        p_tags = main_class[0].find_elements(by = By.TAG_NAME, value = \"p\")\n",
    "        text = \"\"\n",
    "        for p in p_tags:\n",
    "            text += p.text + \"\\n\"\n",
    "        if not os.path.exists(content_path + str(i) + \".txt\"):\n",
    "            with open(content_path + str(i) + \".txt\", \"w\") as file:\n",
    "                file.write(str(titles.iloc[i]) + '\\n\\n' + text)\n",
    "            file.close()\n",
    "    except:\n",
    "        errors.append(i)\n",
    "        continue"
   ]
  },
  {
   "cell_type": "code",
   "execution_count": 8,
   "metadata": {},
   "outputs": [
    {
     "data": {
      "text/plain": [
       "1"
      ]
     },
     "execution_count": 8,
     "metadata": {},
     "output_type": "execute_result"
    }
   ],
   "source": [
    "len(errors)"
   ]
  },
  {
   "cell_type": "code",
   "execution_count": 9,
   "metadata": {},
   "outputs": [],
   "source": [
    "driver.close()"
   ]
  },
  {
   "cell_type": "markdown",
   "metadata": {},
   "source": [
    "---\n",
    "---"
   ]
  },
  {
   "cell_type": "code",
   "execution_count": 8,
   "metadata": {},
   "outputs": [],
   "source": [
    "import pandas as pd\n",
    "import os\n",
    "from selenium import webdriver\n",
    "from selenium.webdriver.common.by import By\n",
    "from selenium.webdriver.chrome.options import Options\n",
    "from selenium.webdriver.chrome.service import Service\n",
    "import pandas as pd\n",
    "from tqdm import tqdm"
   ]
  },
  {
   "cell_type": "code",
   "execution_count": null,
   "metadata": {},
   "outputs": [],
   "source": [
    "os.chdir('hrriday/news/')"
   ]
  },
  {
   "cell_type": "code",
   "execution_count": 10,
   "metadata": {},
   "outputs": [
    {
     "data": {
      "text/plain": [
       "'/mnt/HDFS1/language_nlp/nepali_nlp_team_3/hrriday/news'"
      ]
     },
     "execution_count": 10,
     "metadata": {},
     "output_type": "execute_result"
    }
   ],
   "source": [
    "os.getcwd()"
   ]
  },
  {
   "cell_type": "markdown",
   "metadata": {},
   "source": [
    "News 5: Annapurna Post: https://annapurnapost.com/"
   ]
  },
  {
   "cell_type": "code",
   "execution_count": 11,
   "metadata": {},
   "outputs": [],
   "source": [
    "# Set up Firefox options for headless mode\n",
    "firefox_options = webdriver.FirefoxOptions()\n",
    "firefox_options.add_argument(\"--headless\") \n",
    " # Disable Images\n",
    "firefox_profile = webdriver.FirefoxProfile()\n",
    "firefox_profile.set_preference(\"permissions.default.image\", 2)\n",
    "\n",
    "# Disable CSS (using custom preferences to block stylesheets)\n",
    "firefox_profile.set_preference(\"permissions.default.stylesheet\", 2)  # Run in headless mode (without GUI)\n",
    "\n",
    "# Initialize the Firefox WebDriver with service and options\n",
    "driver = webdriver.Firefox(executable_path = \"/mnt/HDFS1/language_nlp/nepali_nlp_team_3/geckodriver\", options=firefox_options, firefox_profile=firefox_profile)"
   ]
  },
  {
   "cell_type": "code",
   "execution_count": 12,
   "metadata": {},
   "outputs": [],
   "source": [
    "df = pd.read_csv('annapurna_post.csv')"
   ]
  },
  {
   "cell_type": "code",
   "execution_count": 13,
   "metadata": {},
   "outputs": [],
   "source": [
    "if not os.path.exists('content'):\n",
    "    os.makedirs('content')\n",
    "if not os.path.exists('content/annapurna_post'):\n",
    "    os.makedirs('content/annapurna_post')"
   ]
  },
  {
   "cell_type": "code",
   "execution_count": 14,
   "metadata": {},
   "outputs": [
    {
     "name": "stderr",
     "output_type": "stream",
     "text": [
      "  0%|          | 0/49939 [00:00<?, ?it/s]"
     ]
    },
    {
     "name": "stderr",
     "output_type": "stream",
     "text": [
      "100%|██████████| 49939/49939 [14:09<00:00, 58.77it/s] \n"
     ]
    }
   ],
   "source": [
    "links = df[\"Link\"]\n",
    "titles = df[\"Title\"]\n",
    "content_path = \"content/annapurna_post/\"\n",
    "errors = []\n",
    "for i in tqdm(range(268,len(links)//4)):\n",
    "    try:\n",
    "        driver.get(links.iloc[i])\n",
    "        main_class = driver.find_elements(by = By.CLASS_NAME, value = \"ap__news-content\")\n",
    "        p_tags = main_class[0].find_elements(by = By.TAG_NAME, value = \"p\")\n",
    "        text = \"\"\n",
    "        for j in range(3, len(p_tags)):\n",
    "            text += p_tags[j].get_attribute(\"innerHTML\") + \"\\n\"\n",
    "        if not os.path.exists(content_path + str(i) + \".txt\"):\n",
    "            with open(content_path + str(i) + \".txt\", \"w\") as file:\n",
    "                file.write(str(titles.iloc[i]) + '\\n\\n' + text)\n",
    "            file.close()\n",
    "    except:\n",
    "        errors.append(i)\n",
    "        continue"
   ]
  },
  {
   "cell_type": "code",
   "execution_count": 9,
   "metadata": {},
   "outputs": [],
   "source": [
    "driver.get(df['Link'].iloc[0])"
   ]
  },
  {
   "cell_type": "code",
   "execution_count": 10,
   "metadata": {},
   "outputs": [
    {
     "name": "stdout",
     "output_type": "stream",
     "text": [
      "https://annapurnapost.com/story/465236/\n"
     ]
    }
   ],
   "source": [
    "print(df['Link'].iloc[0])"
   ]
  },
  {
   "cell_type": "code",
   "execution_count": 11,
   "metadata": {},
   "outputs": [],
   "source": [
    "a = driver.find_elements(by = By.CLASS_NAME, value = \"ap__news-content\")"
   ]
  },
  {
   "cell_type": "code",
   "execution_count": 12,
   "metadata": {},
   "outputs": [
    {
     "data": {
      "text/plain": [
       "1"
      ]
     },
     "execution_count": 12,
     "metadata": {},
     "output_type": "execute_result"
    }
   ],
   "source": [
    "len(a)"
   ]
  },
  {
   "cell_type": "code",
   "execution_count": 13,
   "metadata": {},
   "outputs": [],
   "source": [
    "b = a[0].find_elements(by = By.TAG_NAME, value = \"p\")"
   ]
  },
  {
   "cell_type": "code",
   "execution_count": 14,
   "metadata": {},
   "outputs": [
    {
     "data": {
      "text/plain": [
       "7"
      ]
     },
     "execution_count": 14,
     "metadata": {},
     "output_type": "execute_result"
    }
   ],
   "source": [
    "len(b)"
   ]
  },
  {
   "cell_type": "code",
   "execution_count": 15,
   "metadata": {},
   "outputs": [
    {
     "name": "stdout",
     "output_type": "stream",
     "text": [
      "गोरखा : शनिबार अपरान्ह पाँच बजेतिर भएको सवारी दुर्घटनामा परी नेपाली सेनामा कार्यरत दुईजना घाइते भएका छन्। गोरखा नगरपालिका-९ ठिगुरेश्वारामा सेनाका दुईजना सवार मोटरसाइकल टिपरसँग ठक्कर खाँदा रिपुमर्दन गणमा कार्यरत सुरेन्द्र राई र जनम राई घाइते भएका हुन्। \n",
      "\n",
      "\n",
      "गोरखा बजारबाट आँबुखैरेनीतर्फ जाँदै गरेको ग १ क ५६५४ नम्बरको टिपर र विपरीत दिशाबाट आउँदै गरेको  बा ७० प २८७१ नम्बरको मोटरसाइकल एक आपसमा ठक्कर खाई सवारी दुर्घटना भएको थियो। घाइतेमध्ये सुरेन्द्र राई गम्भीर घाइते छन्। घाइते दुवैजना लेसनायक हुन्।\n",
      "\n",
      "\n",
      "घाइते दुवै जनाको गोरखा अस्पतालमा उपचार भइरहेको प्रहरी नायब उपरीक्षक रमेशकुमार श्रेष्ठले बताए। टिपर चालक अजिरकोट गाउँपालिकाका चन्द्रबहादुर परियारलाई प्रहरीले नियन्त्रणमा लिएको जनाएको छ।\n",
      "\n",
      "\n",
      "\n",
      "\n",
      "\n"
     ]
    }
   ],
   "source": [
    "for i in range(3, len(b)):\n",
    "    print(b[i].text)\n",
    "    print(\"\\n\") "
   ]
  },
  {
   "cell_type": "code",
   "execution_count": null,
   "metadata": {},
   "outputs": [
    {
     "data": {
      "text/plain": [
       "1"
      ]
     },
     "metadata": {},
     "output_type": "display_data"
    }
   ],
   "source": [
    "len(errors)"
   ]
  },
  {
   "cell_type": "code",
   "execution_count": null,
   "metadata": {},
   "outputs": [],
   "source": [
    "driver.close()"
   ]
  },
  {
   "cell_type": "markdown",
   "metadata": {},
   "source": [
    "---\n",
    "---"
   ]
  }
 ],
 "metadata": {
  "kernelspec": {
   "display_name": "nepali_venv",
   "language": "python",
   "name": "python3"
  },
  "language_info": {
   "codemirror_mode": {
    "name": "ipython",
    "version": 3
   },
   "file_extension": ".py",
   "mimetype": "text/x-python",
   "name": "python",
   "nbconvert_exporter": "python",
   "pygments_lexer": "ipython3",
   "version": "3.6.8"
  }
 },
 "nbformat": 4,
 "nbformat_minor": 2
}
